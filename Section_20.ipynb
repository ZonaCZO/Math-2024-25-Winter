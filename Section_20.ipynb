{
  "nbformat": 4,
  "nbformat_minor": 0,
  "metadata": {
    "colab": {
      "provenance": [],
      "authorship_tag": "ABX9TyPV2EyY+0dw5VpDXCr+C+6N",
      "include_colab_link": true
    },
    "kernelspec": {
      "name": "python3",
      "display_name": "Python 3"
    },
    "language_info": {
      "name": "python"
    }
  },
  "cells": [
    {
      "cell_type": "markdown",
      "metadata": {
        "id": "view-in-github",
        "colab_type": "text"
      },
      "source": [
        "<a href=\"https://colab.research.google.com/github/ZonaCZO/Math-2024-25-Winter/blob/main/Section_20.ipynb\" target=\"_parent\"><img src=\"https://colab.research.google.com/assets/colab-badge.svg\" alt=\"Open In Colab\"/></a>"
      ]
    },
    {
      "cell_type": "markdown",
      "source": [
        "### 20. Limits of Real Functions\n",
        "\n",
        "#### 1. Compute:\n",
        "$$ \\lim_{x \\to \\infty} \\frac{x^3 + 2x^2}{x^4 - 3x^3} $$\n",
        "\n",
        "**Solution**:\n",
        "1. Divide numerator and denominator by the highest power of \\(x\\), which is \\(x^4\\).\n",
        "   $$ \\frac{x^3 + 2x^2}{x^4 - 3x^3} = \\frac{\\frac{x^3}{x^4} + \\frac{2x^2}{x^4}}{\\frac{x^4}{x^4} - \\frac{3x^3}{x^4}} = \\frac{\\frac{1}{x} + \\frac{2}{x^2}}{1 - \\frac{3}{x}} $$\n",
        "2. As \\(x \\to \\infty\\), all terms with \\(\\frac{1}{x}\\) or higher powers vanish.\n",
        "   $$ \\lim_{x \\to \\infty} \\frac{\\frac{1}{x} + \\frac{2}{x^2}}{1 - \\frac{3}{x}} = \\frac{0 + 0}{1 - 0} = 0. $$\n",
        "\n",
        "**Final Answer**: \\( \\boxed{0} \\)\n",
        "\n",
        "---\n",
        "\n"
      ],
      "metadata": {
        "id": "pZmWXrMeZVuQ"
      }
    },
    {
      "cell_type": "code",
      "execution_count": null,
      "metadata": {
        "id": "XdLJTMxJZJXO"
      },
      "outputs": [],
      "source": [
        "from sympy import symbols, sin, limit, oo\n",
        "\n",
        "# Define the variable\n",
        "x = symbols('x')\n",
        "\n",
        "# 1. Compute lim (x^3 + 2x^2) / (x^4 - 3x^3) as x -> oo\n",
        "expr1 = (x**3 + 2*x**2) / (x**4 - 3*x**3)\n",
        "result1 = limit(expr1, x, oo)\n",
        "\n",
        "\n",
        "\n",
        "result1\n"
      ]
    },
    {
      "cell_type": "markdown",
      "source": [
        "#### 2. Find:\n",
        "$$ \\lim_{x \\to 0} \\frac{\\sin(3x)}{2x + 1} $$\n",
        "\n",
        "**Solution**:\n",
        "1. Use the fact that \\(\\lim_{x \\to 0} \\frac{\\sin(kx)}{kx} = 1\\) for any constant \\(k\\).\n",
        "2. Rewrite:\n",
        "   $$ \\frac{\\sin(3x)}{2x + 1} = \\frac{\\sin(3x)}{3x} \\cdot \\frac{3x}{2x + 1} $$\n",
        "3. Evaluate limits:\n",
        "   - \\(\\lim_{x \\to 0} \\frac{\\sin(3x)}{3x} = 1\\),\n",
        "   - \\(\\lim_{x \\to 0} \\frac{3x}{2x + 1} = \\frac{3 \\cdot 0}{2 \\cdot 0 + 1} = 0\\).\n",
        "   Therefore:\n",
        "   $$ \\lim_{x \\to 0} \\frac{\\sin(3x)}{2x + 1} = \\frac{1 \\cdot 0}{1} = 0. $$\n",
        "\n",
        "**Final Answer**: \\( \\boxed{0} \\)\n",
        "\n",
        "---\n",
        "\n"
      ],
      "metadata": {
        "id": "4p4MyPLRZXwj"
      }
    },
    {
      "cell_type": "code",
      "source": [
        "# 2. Compute lim sin(3x) / (2x + 1) as x -> 0\n",
        "expr2 = sin(3*x) / (2*x + 1)\n",
        "result2 = limit(expr2, x, 0)\n",
        "\n",
        "result2"
      ],
      "metadata": {
        "id": "hxxF1CRoZila"
      },
      "execution_count": null,
      "outputs": []
    },
    {
      "cell_type": "markdown",
      "source": [
        "#### 3. Find the asymptotes of the functions:\n",
        "\n",
        "(a) \\( f(x) = \\frac{x^2 - 1}{x^2 + 1} \\)\n",
        "\n",
        "**Solution**:\n",
        "1. Horizontal asymptotes are determined by the behavior of \\(f(x)\\) as \\(x \\to \\infty\\):\n",
        "   $$ \\lim_{x \\to \\infty} f(x) = \\lim_{x \\to \\infty} \\frac{x^2 - 1}{x^2 + 1} = \\frac{1 - \\frac{1}{x^2}}{1 + \\frac{1}{x^2}} = 1. $$\n",
        "   Horizontal asymptote: \\(y = 1\\).\n",
        "2. No vertical asymptotes exist since the denominator is never zero (\\(x^2 + 1 > 0\\) for all \\(x\\)).\n",
        "\n",
        "**Final Answer**: Horizontal asymptote: \\(y = 1\\).\n",
        "\n",
        "---\n",
        "\n",
        "(b) $ g(x) = \\frac{\\sin(x)}{x^2 + 1} $\n",
        "\n",
        "**Solution**:\n",
        "1. Horizontal asymptotes:\n",
        "   - As \\(x \\to \\infty\\), the numerator \\(\\sin(x)\\) oscillates between \\(-1\\) and \\(1\\), while the denominator \\(x^2 + 1 \\to \\infty\\).\n",
        "   - Therefore:\n",
        "     $$ \\lim_{x \\to \\infty} g(x) = \\lim_{x \\to \\infty} \\frac{\\sin(x)}{x^2 + 1} = 0. $$\n",
        "   Horizontal asymptote: \\(y = 0\\).\n",
        "2. Vertical asymptotes:\n",
        "   - The denominator \\(x^2 + 1 > 0\\) for all \\(x\\), so no vertical asymptotes exist.\n",
        "\n",
        "**Final Answer**: Horizontal asymptote: \\(y = 0\\).\n"
      ],
      "metadata": {
        "id": "RPP5qrX2ZY-h"
      }
    },
    {
      "cell_type": "code",
      "source": [
        "# 3.1 Horizontal asymptote for f(x) = (x^2 - 1) / (x^2 + 1)\n",
        "expr3a = (x**2 - 1) / (x**2 + 1)\n",
        "result3a = limit(expr3a, x, oo)\n",
        "\n",
        "# 3.2 Horizontal asymptote for g(x) = sin(x) / (x^2 + 1)\n",
        "expr3b = sin(x) / (x**2 + 1)\n",
        "result3b = limit(expr3b, x, oo)\n",
        "\n",
        "result3a, result3b"
      ],
      "metadata": {
        "id": "v9AmYvO8ZjIv"
      },
      "execution_count": null,
      "outputs": []
    }
  ]
}