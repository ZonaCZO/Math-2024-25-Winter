{
  "nbformat": 4,
  "nbformat_minor": 0,
  "metadata": {
    "colab": {
      "provenance": [],
      "authorship_tag": "ABX9TyMxn7rq0+W9L8K5z8Kpnt8t",
      "include_colab_link": true
    },
    "kernelspec": {
      "name": "python3",
      "display_name": "Python 3"
    },
    "language_info": {
      "name": "python"
    }
  },
  "cells": [
    {
      "cell_type": "markdown",
      "metadata": {
        "id": "view-in-github",
        "colab_type": "text"
      },
      "source": [
        "<a href=\"https://colab.research.google.com/github/ZonaCZO/Math-2024-25-Winter/blob/main/Notebooks_EN/03_Calculus/Differential_Equations.ipynb\" target=\"_parent\"><img src=\"https://colab.research.google.com/assets/colab-badge.svg\" alt=\"Open In Colab\"/></a>"
      ]
    },
    {
      "cell_type": "markdown",
      "source": [
        "### **1. Solve the following first-order ordinary differential equations:**\n",
        "\n",
        "---\n",
        "\n",
        "**a) $ y'(x) = y(x) $**\n",
        "\n",
        "This is a separable differential equation. Rewrite it as:\n",
        "$$ \\frac{dy}{dx} = y $$\n",
        "\n",
        "Separate variables:\n",
        "$$ \\frac{dy}{y} = dx $$\n",
        "\n",
        "Integrate both sides:\n",
        "$$ \\ln|y| = x + C $$\n",
        "\n",
        "Exponentiate to solve for \\( y \\):\n",
        "$$ y(x) = Ce^x $$\n",
        "\n",
        "---\n",
        "\n",
        "**b) $ y'(z) = \\frac{1}{2y(z)} $**\n",
        "\n",
        "Rewrite the equation:\n",
        "$$ \\frac{dy}{dz} = \\frac{1}{2y} $$\n",
        "\n",
        "Separate variables:\n",
        "$$ 2y \\, dy = dz $$\n",
        "\n",
        "Integrate both sides:\n",
        "$$ y^2 = z + C $$\n",
        "\n",
        "Solve for \\( y \\):\n",
        "$$ y(z) = \\pm \\sqrt{z + C} $$\n"
      ],
      "metadata": {
        "id": "XmpB3sstu4hH"
      }
    },
    {
      "cell_type": "code",
      "execution_count": null,
      "metadata": {
        "id": "4qLPCBT9r_zo"
      },
      "outputs": [],
      "source": [
        "from sympy import symbols, Function, Eq, dsolve, Derivative\n",
        "\n",
        "# Define variables and function\n",
        "x, z = symbols('x z')\n",
        "y = Function('y')\n",
        "\n",
        "# a) y'(x) = y(x)\n",
        "eq1 = Eq(Derivative(y(x), x), y(x))\n",
        "sol1 = dsolve(eq1)\n",
        "print(\"Solution 1a:\", sol1)\n",
        "\n",
        "# b) y'(z) = 1 / (2y(z))\n",
        "eq2 = Eq(Derivative(y(z), z), 1 / (2 * y(z)))\n",
        "sol2 = dsolve(eq2)\n",
        "print(\"Solution 1b:\", sol2)"
      ]
    },
    {
      "cell_type": "markdown",
      "source": [
        "### **2. Solve the first-order ordinary differential equations using the method of separation of variables:**\n",
        "\n",
        "---\n",
        "\n",
        "**a) $ \\frac{dy}{dx} = \\frac{z}{y} $**\n",
        "\n",
        "Separate variables:\n",
        "$$ y \\, dy = z \\, dx $$\n",
        "\n",
        "Integrate both sides:\n",
        "$$ \\frac{y^2}{2} = zx + C $$\n",
        "\n",
        "Solve for \\( y \\):\n",
        "$$ y(x) = \\pm \\sqrt{2zx + C} $$\n",
        "\n",
        "---\n",
        "\n",
        "**b) $ \\frac{dy}{dz} = \\frac{z}{z} $**\n",
        "\n",
        "Simplify the equation:\n",
        "$$ \\frac{dy}{dz} = 1 $$\n",
        "\n",
        "Integrate both sides:\n",
        "$$ y(z) = z + C $$\n",
        "\n",
        "---\n",
        "\n",
        "**c) $ \\frac{dz}{dx} = xy $**\n",
        "\n",
        "This equation cannot be solved directly using separation of variables without additional information about \\( y(x) \\)."
      ],
      "metadata": {
        "id": "8guGT0kevF3W"
      }
    },
    {
      "cell_type": "code",
      "source": [
        "# a) dy/dx = z / y\n",
        "eq3 = Eq(Derivative(y(x), x), z / y(x))\n",
        "sol3 = dsolve(eq3)\n",
        "print(\"Solution 2a:\", sol3)\n",
        "\n",
        "# b) dy/dz = z / z\n",
        "eq4 = Eq(Derivative(y(z), z), 1)\n",
        "sol4 = dsolve(eq4)\n",
        "print(\"Solution 2b:\", sol4)\n",
        "\n",
        "# c) dz/dx = xy\n",
        "# This equation requires additional information about y(x)."
      ],
      "metadata": {
        "id": "ndZYyK8Rv_Zo"
      },
      "execution_count": null,
      "outputs": []
    },
    {
      "cell_type": "markdown",
      "source": [
        "### **3. Solve the second-order ordinary differential equations:**\n",
        "\n",
        "---\n",
        "\n",
        "**a) $ y''(x) + y'(z) = 0 $, with boundary conditions $ y(0) = 2 $ and $ y'(0) = -1 $:**\n",
        "\n",
        "This equation is not standard due to the mixed variables \\( x \\) and \\( z \\). Additional information is needed to solve it.\n",
        "\n",
        "---\n",
        "\n",
        "**b) $ y''(x) - y(x) = 0 $, with boundary conditions $ y(0) = 2 $ and $ y'(0) = 0 $:**\n",
        "\n",
        "The characteristic equation is:\n",
        "$$ r^2 - 1 = 0 $$\n",
        "$$ r = \\pm 1 $$\n",
        "\n",
        "The general solution is:\n",
        "$$ y(x) = C_1 e^x + C_2 e^{-x} $$\n",
        "\n",
        "Apply boundary conditions:\n",
        "1. $ y(0) = 2 $:\n",
        "   $$ C_1 + C_2 = 2 $$\n",
        "\n",
        "2. $ y'(0) = 0 $:\n",
        "   $$ C_1 - C_2 = 0 $$\n",
        "\n",
        "Solve the system:\n",
        "$$ C_1 = 1, \\quad C_2 = 1 $$\n",
        "\n",
        "Thus, the solution is:\n",
        "$$ y(x) = e^x + e^{-x} $$\n",
        "\n",
        "---\n",
        "\n",
        "**c) $ \\frac{d^2 y(x)}{dx^2} = -\\omega^2 y(x) $:**\n",
        "\n",
        "The characteristic equation is:\n",
        "$$ r^2 + \\omega^2 = 0 $$\n",
        "$$ r = \\pm i\\omega $$\n",
        "\n",
        "The general solution is:\n",
        "$$ y(x) = A \\cos(\\omega x) + B \\sin(\\omega x) $$\n"
      ],
      "metadata": {
        "id": "CEQPaEArvNs0"
      }
    },
    {
      "cell_type": "code",
      "source": [
        "# a) y''(x) + y'(z) = 0\n",
        "# This equation requires clarification due to mixed variables x and z.\n",
        "\n",
        "# b) y''(x) - y(x) = 0 with boundary conditions y(0) = 2, y'(0) = 0\n",
        "eq5 = Eq(Derivative(y(x), x, x) - y(x), 0)\n",
        "sol5 = dsolve(eq5, ics={y(0): 2, y(x).diff(x).subs(x, 0): 0})\n",
        "print(\"Solution 3b:\", sol5)\n",
        "\n",
        "# c) d^2y/dx^2 = -ω^2 y(x)\n",
        "omega = symbols('omega')\n",
        "eq6 = Eq(Derivative(y(x), x, x), -omega**2 * y(x))\n",
        "sol6 = dsolve(eq6)\n",
        "print(\"Solution 3c:\", sol6)"
      ],
      "metadata": {
        "id": "R8_SCWuiwDSl"
      },
      "execution_count": null,
      "outputs": []
    },
    {
      "cell_type": "markdown",
      "source": [
        "### **4. Check if the function $ \\psi(t, x) = A \\cos(\\omega t + kx) $ is a solution of the wave equation:**\n",
        "\n",
        "The wave equation is:\n",
        "$$ \\frac{\\partial^2 \\psi}{\\partial t^2} - v^2 \\frac{\\partial^2 \\psi}{\\partial x^2} = 0 $$\n",
        "\n",
        "Compute the second derivatives:\n",
        "1. $ \\frac{\\partial \\psi}{\\partial t} = -A\\omega \\sin(\\omega t + kx) $\n",
        "   $$ \\frac{\\partial^2 \\psi}{\\partial t^2} = -A\\omega^2 \\cos(\\omega t + kx) $$\n",
        "\n",
        "2. $ \\frac{\\partial \\psi}{\\partial x} = -Ak \\sin(\\omega t + kx) $\n",
        "   $$ \\frac{\\partial^2 \\psi}{\\partial x^2} = -Ak^2 \\cos(\\omega t + kx) $$\n",
        "\n",
        "Substitute into the wave equation:\n",
        "$$ -A\\omega^2 \\cos(\\omega t + kx) - v^2 (-Ak^2 \\cos(\\omega t + kx)) = 0 $$\n",
        "$$ -A\\omega^2 \\cos(\\omega t + kx) + A v^2 k^2 \\cos(\\omega t + kx) = 0 $$\n",
        "$$ A \\cos(\\omega t + kx) (-\\omega^2 + v^2 k^2) = 0 $$\n",
        "\n",
        "For this to hold for all \\( t \\) and \\( x \\), we must have:\n",
        "$$ -\\omega^2 + v^2 k^2 = 0 $$\n",
        "$$ v^2 = \\frac{\\omega^2}{k^2} $$\n",
        "\n",
        "Since $ v = \\frac{\\omega}{k} $, the function $ \\psi(t, x) $ satisfies the wave equation.\n",
        "\n",
        "**Conclusion:**\n",
        "The function $ \\psi(t, x) = A \\cos(\\omega t + kx) $ is a solution of the wave equation."
      ],
      "metadata": {
        "id": "0Z2lUXMCvaop"
      }
    },
    {
      "cell_type": "code",
      "source": [
        "from sympy import cos, diff, symbols\n",
        "\n",
        "# Define variables and function\n",
        "t, x, A, omega, k = symbols('t x A omega k')\n",
        "psi = A * cos(omega * t + k * x)\n",
        "\n",
        "# Compute second derivatives\n",
        "d2psi_dt2 = diff(psi, t, t)\n",
        "d2psi_dx2 = diff(psi, x, x)\n",
        "\n",
        "# Substitute into the wave equation\n",
        "v = omega / k\n",
        "wave_eq = d2psi_dt2 - v**2 * d2psi_dx2\n",
        "\n",
        "# Check if the equation equals zero\n",
        "is_solution = wave_eq.simplify() == 0\n",
        "print(\"Is the function a solution to the wave equation:\", is_solution)"
      ],
      "metadata": {
        "id": "FHiZesg9vcA1"
      },
      "execution_count": null,
      "outputs": []
    }
  ]
}