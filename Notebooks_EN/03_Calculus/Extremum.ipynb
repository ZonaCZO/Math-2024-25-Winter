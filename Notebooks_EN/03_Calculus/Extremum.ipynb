{
  "nbformat": 4,
  "nbformat_minor": 0,
  "metadata": {
    "colab": {
      "provenance": [],
      "authorship_tag": "ABX9TyMsK6rJsNyAExWDKFBFu8zR",
      "include_colab_link": true
    },
    "kernelspec": {
      "name": "python3",
      "display_name": "Python 3"
    },
    "language_info": {
      "name": "python"
    }
  },
  "cells": [
    {
      "cell_type": "markdown",
      "metadata": {
        "id": "view-in-github",
        "colab_type": "text"
      },
      "source": [
        "<a href=\"https://colab.research.google.com/github/ZonaCZO/Math-2024-25-Winter/blob/main/Section_22.ipynb\" target=\"_parent\"><img src=\"https://colab.research.google.com/assets/colab-badge.svg\" alt=\"Open In Colab\"/></a>"
      ]
    },
    {
      "cell_type": "markdown",
      "source": [
        "6. Maximize profit:\n",
        "\n",
        "Given the profit function $ P(u) = -2u^2 + 50u - 300 $, we need to find the number of units that maximize profit.\n",
        "\n",
        "First, find the derivative:\n",
        "$$ P'(u) = -4u + 50 $$\n",
        "\n",
        "Set the derivative equal to zero to find the critical points:\n",
        "$$ -4u + 50 = 0 $$\n",
        "$$ u = \\frac{50}{4} = 12.5 $$\n",
        "\n",
        "Check the second derivative to determine the nature of the critical point:\n",
        "$$ P''(u) = -4 $$\n",
        "\n",
        "Since $ P''(u) < 0 $, the function has a maximum at $ u = 12.5 $.\n",
        "\n",
        "Thus, the number of units that maximize profit is $ u = 12.5 $.\n",
        "\n"
      ],
      "metadata": {
        "id": "J0InWsw4LgzO"
      }
    },
    {
      "cell_type": "code",
      "execution_count": 1,
      "metadata": {
        "colab": {
          "base_uri": "https://localhost:8080/"
        },
        "id": "_KTxjrNKIe7o",
        "outputId": "075eed08-cf74-444e-f199-c35083e7d292"
      },
      "outputs": [
        {
          "output_type": "stream",
          "name": "stdout",
          "text": [
            "Problem 6: Units to maximize profit = [12.5000000000000]\n"
          ]
        }
      ],
      "source": [
        "import sympy as sp\n",
        "\n",
        "# Define variables\n",
        "u, x, L, W = sp.symbols('u x L W')\n",
        "\n",
        "# Problem 6: Maximize profit\n",
        "P = -2*u**2 + 50*u - 300\n",
        "P_derivative = sp.diff(P, u)\n",
        "critical_points_6 = sp.solve(P_derivative, u)\n",
        "# Find maximum profit\n",
        "max_profit_units = [cp.evalf() for cp in critical_points_6 if P.subs(u, cp).is_real]\n",
        "\n",
        "print(f\"Problem 6: Units to maximize profit = {max_profit_units}\")\n",
        "\n",
        "\n"
      ]
    },
    {
      "cell_type": "markdown",
      "source": [
        "7. Enclose the largest possible rectangular:\n",
        "\n",
        "Given 10 meters of string, we need to find the dimensions of the rectangle that maximize the area.\n",
        "\n",
        "Perimeter constraint:\n",
        "$$ 2L + 2W = 10 $$\n",
        "$$ L + W = 5 $$\n",
        "$$ L = 5 - W $$\n",
        "\n",
        "Area of the rectangle:\n",
        "$$ A = L \\cdot W = (5 - W) \\cdot W = 5W - W^2 $$\n",
        "\n",
        "Find the derivative of the area:\n",
        "$$ A'(W) = 5 - 2W $$\n",
        "\n",
        "Set the derivative equal to zero to find the critical points:\n",
        "$$ 5 - 2W = 0 $$\n",
        "$$ W = 2.5 $$\n",
        "$$ L = 5 - 2.5 = 2.5 $$\n",
        "\n",
        "Thus, the dimensions of the rectangle that maximize the area are $ L = 2.5 $ and $ W = 2.5 $.\n",
        "\n",
        "\n"
      ],
      "metadata": {
        "id": "TaOag46jNo5A"
      }
    },
    {
      "cell_type": "code",
      "source": [
        "# Problem 7: Enclose the largest possible rectangular\n",
        "# Given total string length for perimeter\n",
        "string_length = 10\n",
        "W = sp.symbols('W', positive=True)\n",
        "L = string_length/2 - W  # Because 2L + 2W = 10, hence L + W = 5\n",
        "area = L * W\n",
        "area_derivative = sp.diff(area, W)\n",
        "critical_points_7 = sp.solve(area_derivative, W)\n",
        "# Find dimensions that give the maximum area\n",
        "max_area_dimensions = [(W.evalf(), (string_length/2 - W).evalf()) for W in critical_points_7]\n",
        "\n",
        "print(f\"Problem 7: Dimensions for maximum area = {max_area_dimensions}\")\n",
        "\n"
      ],
      "metadata": {
        "colab": {
          "base_uri": "https://localhost:8080/"
        },
        "id": "RAZkNu_-SA7G",
        "outputId": "9ec627d1-fcae-4685-b0cf-69b967825f4c"
      },
      "execution_count": 2,
      "outputs": [
        {
          "output_type": "stream",
          "name": "stdout",
          "text": [
            "Problem 7: Dimensions for maximum area = [(2.50000000000000, 2.50000000000000)]\n"
          ]
        }
      ]
    },
    {
      "cell_type": "markdown",
      "source": [
        "8. Find extremum of $ f(x) = x^2 + 3x - 5 $:\n",
        "\n",
        "First, find the derivative:\n",
        "$$ f'(x) = 2x + 3 $$\n",
        "\n",
        "Set the derivative equal to zero to find the critical points:\n",
        "$$ 2x + 3 = 0 $$\n",
        "$$ x = -\\frac{3}{2} $$\n",
        "\n",
        "To determine the nature of the critical point, check the second derivative:\n",
        "$$ f''(x) = 2 $$\n",
        "\n",
        "Since $ f''(x) > 0 $, the function has a minimum at $ x = -\\frac{3}{2} $.\n",
        "\n",
        "Thus, the extremum point is a minimum at $ x = -\\frac{3}{2} $, $ f(-\\frac{3}{2}) = -\\frac{17}{4} $.\n",
        "\n"
      ],
      "metadata": {
        "id": "fqBkUe48Nqhr"
      }
    },
    {
      "cell_type": "code",
      "source": [
        "# Problem 8: Find extremum of f(x) = x^2 + 3x - 5\n",
        "f8 = x**2 + 3*x - 5\n",
        "f8_derivative = sp.diff(f8, x)\n",
        "critical_points_8 = sp.solve(f8_derivative, x)\n",
        "extrema_8 = [(cp.evalf(), f8.subs(x, cp).evalf()) for cp in critical_points_8]\n",
        "\n",
        "print(f\"Problem 8: Extremum points = {extrema_8}\")\n",
        "\n"
      ],
      "metadata": {
        "colab": {
          "base_uri": "https://localhost:8080/"
        },
        "id": "70dotbd_SCR9",
        "outputId": "06461abb-5217-4b0f-8f4c-966493d9f9df"
      },
      "execution_count": 3,
      "outputs": [
        {
          "output_type": "stream",
          "name": "stdout",
          "text": [
            "Problem 8: Extremum points = [(-1.50000000000000, -7.25000000000000)]\n"
          ]
        }
      ]
    },
    {
      "cell_type": "markdown",
      "source": [
        "9. Find extremum of $ f(x) = \\frac{x^2 + 2x + 1}{x - 1} $:\n",
        "\n",
        "First, find the derivative using the quotient rule:\n",
        "$$ f'(x) = \\frac{(2x + 2)(x - 1) - (x^2 + 2x + 1)}{(x - 1)^2} $$\n",
        "$$ f'(x) = \\frac{2x^2 - 2x + 2x - 2 - x^2 - 2x - 1}{(x - 1)^2} $$\n",
        "$$ f'(x) = \\frac{x^2 - 3}{(x - 1)^2} $$\n",
        "\n",
        "Set the derivative equal to zero to find the critical points:\n",
        "$$ x^2 - 3 = 0 $$\n",
        "$$ x = \\pm\\sqrt{3} $$\n",
        "\n",
        "Check the second derivative to determine the nature of the critical points:\n",
        "$$ f''(x) = \\frac{(x^2 - 3)'}{(x - 1)^2} - \\frac{(x^2 - 3)(2(x - 1))}{(x - 1)^4} $$\n",
        "$$ f''(x) = \\frac{2x(x - 1)^2 - (x^2 - 3)2(x - 1)}{(x - 1)^4} $$\n",
        "$$ f''(x) = \\frac{2x(x - 1) - 2(x^2 - 3)}{(x - 1)^3} $$\n",
        "$$ f''(x) = \\frac{2x(x - 1) - 2x^2 + 6}{(x - 1)^3} $$\n",
        "$$ f''(x) = \\frac{2x^2 - 2x - 2x^2 + 6}{(x - 1)^3} $$\n",
        "$$ f''(x) = \\frac{-2x + 6}{(x - 1)^3} $$\n",
        "\n",
        "Evaluate the second derivative at the critical points to determine the nature of the critical points:\n",
        "For $ x = \\sqrt{3} $, $ f''(\\sqrt{3}) > 0 $, so it is a minimum.\n",
        "For $ x = -\\sqrt{3} $, $ f''(-\\sqrt{3}) < 0 $, so it is a maximum.\n",
        "\n",
        "Thus, the extremum points are:\n",
        "Minimum at $ x = \\sqrt{3} $,\n",
        "Maximum at $ x = -\\sqrt{3} $.\n",
        "$$"
      ],
      "metadata": {
        "id": "gFreZDPPNsaK"
      }
    },
    {
      "cell_type": "code",
      "source": [
        "# Problem 9: Find extremum of f(x) = (x^2 + 2x + 1) / (x - 1)\n",
        "f9 = (x**2 + 2*x + 1) / (x - 1)\n",
        "f9_derivative = sp.diff(f9, x)\n",
        "critical_points_9 = sp.solve(f9_derivative, x)\n",
        "extrema_9 = [(cp.evalf(), f9.subs(x, cp).evalf()) for cp in critical_points_9 if cp.is_real]\n",
        "\n",
        "print(f\"Problem 9: Extremum points = {extrema_9}\")"
      ],
      "metadata": {
        "colab": {
          "base_uri": "https://localhost:8080/"
        },
        "id": "xtVH1S18SDxy",
        "outputId": "abd62d6e-25ee-4501-b97c-41728be1f966"
      },
      "execution_count": 4,
      "outputs": [
        {
          "output_type": "stream",
          "name": "stdout",
          "text": [
            "Problem 9: Extremum points = [(-1.00000000000000, 0), (3.00000000000000, 8.00000000000000)]\n"
          ]
        }
      ]
    }
  ]
}
