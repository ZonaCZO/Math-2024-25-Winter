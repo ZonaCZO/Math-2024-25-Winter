{
  "nbformat": 4,
  "nbformat_minor": 0,
  "metadata": {
    "colab": {
      "provenance": [],
      "authorship_tag": "ABX9TyM2itkrcsUQuMrk5SL/EQcz",
      "include_colab_link": true
    },
    "kernelspec": {
      "name": "python3",
      "display_name": "Python 3"
    },
    "language_info": {
      "name": "python"
    }
  },
  "cells": [
    {
      "cell_type": "markdown",
      "metadata": {
        "id": "view-in-github",
        "colab_type": "text"
      },
      "source": [
        "<a href=\"https://colab.research.google.com/github/ZonaCZO/Math-2024-25-Winter/blob/main/Notebooks_EN/03_Calculus/Taylor_Series.ipynb\" target=\"_parent\"><img src=\"https://colab.research.google.com/assets/colab-badge.svg\" alt=\"Open In Colab\"/></a>"
      ]
    },
    {
      "cell_type": "markdown",
      "source": [
        "$$ \\textbf{Solution:}\n",
        "\n",
        "1. Find the Taylor series and visualize the obtained functions:\n",
        "\n",
        "a) $ f(x) = \\cos(x) $ around $ x = 0 $ up to the 4th degree:\n",
        "\n",
        "First, find the derivatives at $ x = 0 $:\n",
        "$$ f(x) = \\cos(x) $$\n",
        "$$ f(0) = 1 $$\n",
        "$$ f'(x) = -\\sin(x), \\quad f'(0) = 0 $$\n",
        "$$ f''(x) = -\\cos(x), \\quad f''(0) = -1 $$\n",
        "$$ f'''(x) = \\sin(x), \\quad f'''(0) = 0 $$\n",
        "$$ f^{(4)}(x) = \\cos(x), \\quad f^{(4)}(0) = 1 $$\n",
        "\n",
        "Taylor series up to the 4th degree:\n",
        "$$ T_4(x) = 1 - \\frac{x^2}{2!} + \\frac{x^4}{4!} = 1 - \\frac{x^2}{2} + \\frac{x^4}{24} $$\n",
        "\n",
        "b) $ h(x) = \\frac{1}{1 - x} $ around $ x = 0 $ up to the 4th degree:\n",
        "\n",
        "First, find the derivatives at $ x = 0 $:\n",
        "$$ h(x) = \\frac{1}{1 - x} $$\n",
        "$$ h(0) = 1 $$\n",
        "$$ h'(x) = \\frac{1}{(1 - x)^2}, \\quad h'(0) = 1 $$\n",
        "$$ h''(x) = \\frac{2}{(1 - x)^3}, \\quad h''(0) = 2 $$\n",
        "$$ h'''(x) = \\frac{6}{(1 - x)^4}, \\quad h'''(0) = 6 $$\n",
        "$$ h^{(4)}(x) = \\frac{24}{(1 - x)^5}, \\quad h^{(4)}(0) = 24 $$\n",
        "\n",
        "Taylor series up to the 4th degree:\n",
        "$$ T_4(x) = 1 + x + x^2 + x^3 + x^4 $$\n",
        "\n",
        "c) $ g(x) = \\sin(x) $ around $ x = \\pi $ up to the 4th degree:\n",
        "\n",
        "First, find the derivatives at $ x = \\pi $:\n",
        "$$ g(x) = \\sin(x) $$\n",
        "$$ g(\\pi) = 0 $$\n",
        "$$ g'(x) = \\cos(x), \\quad g'(\\pi) = -1 $$\n",
        "$$ g''(x) = -\\sin(x), \\quad g''(\\pi) = 0 $$\n",
        "$$ g'''(x) = -\\cos(x), \\quad g'''(\\pi) = 1 $$\n",
        "$$ g^{(4)}(x) = \\sin(x), \\quad g^{(4)}(\\pi) = 0 $$\n",
        "\n",
        "Taylor series up to the 4th degree:\n",
        "$$ T_4(x) = -\\frac{(x - \\pi)}{1!} + \\frac{(x - \\pi)^3}{3!} = -(x - \\pi) + \\frac{(x - \\pi)^3}{6} $$\n",
        "\n"
      ],
      "metadata": {
        "id": "HqAmGPMvTWtB"
      }
    },
    {
      "cell_type": "code",
      "execution_count": 1,
      "metadata": {
        "colab": {
          "base_uri": "https://localhost:8080/"
        },
        "id": "58foczbhQ9r6",
        "outputId": "16e07c2e-8e62-4deb-a380-ce9c2e3bf6d4"
      },
      "outputs": [
        {
          "output_type": "stream",
          "name": "stdout",
          "text": [
            "Taylor series of cos(x) around x=0 up to 4th degree: 1 - x**2/2 + x**4/24 + O(x**5)\n",
            "Taylor series of 1/(1-x) around x=0 up to 4th degree: 1 + x + x**2 + x**3 + x**4 + O(x**5)\n",
            "Taylor series of sin(x) around x=pi up to 4th degree: pi + (x - pi)**3/6 - x + O((x - pi)**5, (x, pi))\n"
          ]
        }
      ],
      "source": [
        "import sympy as sp\n",
        "\n",
        "# Define the variable\n",
        "x = sp.symbols('x')\n",
        "\n",
        "# Problem 1: Taylor series\n",
        "\n",
        "# a) f(x) = cos(x) around x = 0 up to the 4th degree\n",
        "f = sp.cos(x)\n",
        "T4_f = f.series(x, 0, 5)\n",
        "print(f\"Taylor series of cos(x) around x=0 up to 4th degree: {T4_f}\")\n",
        "\n",
        "# b) h(x) = 1 / (1 - x) around x = 0 up to the 4th degree\n",
        "h = 1 / (1 - x)\n",
        "T4_h = h.series(x, 0, 5)\n",
        "print(f\"Taylor series of 1/(1-x) around x=0 up to 4th degree: {T4_h}\")\n",
        "\n",
        "# c) g(x) = sin(x) around x = pi up to the 4th degree\n",
        "g = sp.sin(x)\n",
        "T4_g = g.series(x, sp.pi, 5)\n",
        "print(f\"Taylor series of sin(x) around x=pi up to 4th degree: {T4_g}\")\n",
        "\n"
      ]
    },
    {
      "cell_type": "markdown",
      "source": [
        "2. Find the tangent line $ y = f'(x_0)(x - x_0) + f(x_0) $ to the function $ f(x) = e^{\\sin(x)} $ at $ x_0 = \\pi $:\n",
        "\n",
        "First, find the function and its derivative at $ x_0 = \\pi $:\n",
        "$$ f(x) = e^{\\sin(x)} $$\n",
        "$$ f(\\pi) = e^{0} = 1 $$\n",
        "$$ f'(x) = e^{\\sin(x)} \\cos(x) $$\n",
        "$$ f'(\\pi) = e^{0} \\cdot (-1) = -1 $$\n",
        "\n",
        "The equation of the tangent line is:\n",
        "$$ y = f'(\\pi)(x - \\pi) + f(\\pi) $$\n",
        "$$ y = -1 \\cdot (x - \\pi) + 1 $$\n",
        "$$ y = -x + \\pi + 1 $$\n",
        "\n",
        "Hence, the tangent line to $ f(x) = e^{\\sin(x)} $ at $ x_0 = \\pi $ is:\n",
        "$$ y = -x + \\pi + 1 $$\n",
        "\n",
        "For visualization in GeoGebra, define $ f(x) $, include slider $ s $, define $ y = f'(s)(x - s) + f(s) $, and include point $ P(s, f(s)) $.\n",
        "\n"
      ],
      "metadata": {
        "id": "kNnELYtUTZZ9"
      }
    },
    {
      "cell_type": "code",
      "source": [
        "# Problem 2: Tangent line to f(x) = e^sin(x) at x = pi\n",
        "f = sp.exp(sp.sin(x))\n",
        "f_prime = sp.diff(f, x)\n",
        "x0 = sp.pi\n",
        "f_x0 = f.subs(x, x0)\n",
        "f_prime_x0 = f_prime.subs(x, x0)\n",
        "tangent_line = f_prime_x0 * (x - x0) + f_x0\n",
        "\n",
        "print(f\"Tangent line to e^sin(x) at x=pi: y = {tangent_line}\")\n"
      ],
      "metadata": {
        "colab": {
          "base_uri": "https://localhost:8080/"
        },
        "id": "0Eq8xCI9Xl8H",
        "outputId": "82ab5d37-8239-4c3a-9044-dc297b4d8a09"
      },
      "execution_count": 2,
      "outputs": [
        {
          "output_type": "stream",
          "name": "stdout",
          "text": [
            "Tangent line to e^sin(x) at x=pi: y = -x + 1 + pi\n"
          ]
        }
      ]
    }
  ]
}