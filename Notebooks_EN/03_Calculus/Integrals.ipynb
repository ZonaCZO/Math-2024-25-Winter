{
  "nbformat": 4,
  "nbformat_minor": 0,
  "metadata": {
    "colab": {
      "provenance": [],
      "authorship_tag": "ABX9TyPM0B2DM9G3M9du6oLBQy7v",
      "include_colab_link": true
    },
    "kernelspec": {
      "name": "python3",
      "display_name": "Python 3"
    },
    "language_info": {
      "name": "python"
    }
  },
  "cells": [
    {
      "cell_type": "markdown",
      "metadata": {
        "id": "view-in-github",
        "colab_type": "text"
      },
      "source": [
        "<a href=\"https://colab.research.google.com/github/ZonaCZO/Math-2024-25-Winter/blob/main/Notebooks_EN/03_Calculus/Integrals.ipynb\" target=\"_parent\"><img src=\"https://colab.research.google.com/assets/colab-badge.svg\" alt=\"Open In Colab\"/></a>"
      ]
    },
    {
      "cell_type": "markdown",
      "source": [
        "$$\n",
        "\\textbf{Solution:}\n",
        "\n",
        "1. Compute:\n",
        "\n",
        "a) $ \\int 1 \\, dx $\n",
        "\n",
        "$$ \\int 1 \\, dx = x + C $$\n",
        "\n",
        "b) $ \\int (x^2 + 2) \\, dx $\n",
        "\n",
        "$$ \\int (x^2 + 2) \\, dx = \\frac{x^3}{3} + 2x + C $$\n",
        "\n",
        "c) $ \\int 2 \\sin(x) \\, dx $\n",
        "\n",
        "$$ \\int 2 \\sin(x) \\, dx = -2 \\cos(x) + C $$\n",
        "\n",
        "d) $ \\int \\frac{3}{x} \\, dx $\n",
        "\n",
        "$$ \\int \\frac{3}{x} \\, dx = 3 \\ln|x| + C $$\n",
        "\n",
        "e) $ \\int \\frac{1}{x^2 - 5} \\, dx $\n",
        "\n",
        "$$ \\int \\frac{1}{x^2 - 5} \\, dx = \\frac{1}{2\\sqrt{5}} \\ln\\left| \\frac{x - \\sqrt{5}}{x + \\sqrt{5}} \\right| + C $$\n",
        "\n",
        "f) $ \\int \\left( \\sin^2 x + \\cos^2 x \\right) \\, dx $\n",
        "\n",
        "$$ \\int \\left( \\sin^2 x + \\cos^2 x \\right) \\, dx = \\int 1 \\, dx = x + C $$\n",
        "\n",
        "g) $ \\int (5 \\sin x + 3 e^x) \\, dx $\n",
        "\n",
        "$$ \\int (5 \\sin x + 3 e^x) \\, dx = -5 \\cos(x) + 3 e^x + C $$\n",
        "\n",
        "h) $ \\int 3 \\sqrt{x} \\, dx $\n",
        "\n",
        "$$ \\int 3 \\sqrt{x} \\, dx = 2 x^{3/2} + C $$\n",
        "\n",
        "i) $ \\int \\sqrt[10]{5} \\, dx $\n",
        "\n",
        "$$ \\int \\sqrt[10]{5} \\, dx = \\sqrt[10]{5} x + C $$\n",
        "\n",
        "j) $ \\int \\cos \\left( \\frac{5}{x^2} + 3 \\right) \\, dx $\n",
        "\n",
        "$$ \\int \\cos \\left( \\frac{5}{x^2} + 3 \\right) \\, dx = C $$ (Integration is non-trivial and result is left as is)\n",
        "\n",
        "k) $ \\int \\frac{\\cos (\\ln(x))}{x} \\, dx $\n",
        "\n",
        "Using substitution:\n",
        "$$ u = \\ln(x), \\, du = \\frac{1}{x} \\, dx $$\n",
        "\n",
        "$$ \\int \\cos (\\ln(x)) \\, \\frac{dx}{x} = \\int \\cos(u) \\, du = \\sin(u) + C = \\sin(\\ln(x)) + C $$\n",
        "\n",
        "l) $ \\int x \\ln(x) \\, dx $\n",
        "\n",
        "Using integration by parts:\n",
        "$$ \\int x \\ln(x) \\, dx = \\frac{x^2}{2} \\ln(x) - \\int \\frac{x^2}{2x} \\, dx = \\frac{x^2}{2} \\ln(x) - \\frac{x^2}{4} + C $$\n",
        "\n",
        "m) $ \\int x e^x \\, dx $\n",
        "\n",
        "Using integration by parts:\n",
        "$$ \\int x e^x \\, dx = x e^x - \\int e^x \\, dx = x e^x - e^x + C = e^x (x - 1) + C $$\n",
        "\n"
      ],
      "metadata": {
        "id": "J00ULkDdeMrx"
      }
    },
    {
      "cell_type": "code",
      "execution_count": null,
      "metadata": {
        "id": "5ao6Rj57eLiO"
      },
      "outputs": [],
      "source": [
        "import sympy as sp\n",
        "\n",
        "# Define the variables\n",
        "x, t = sp.symbols('x t')\n",
        "\n",
        "# Problem 1: Compute integrals\n",
        "integrals = {\n",
        "    'a': sp.integrate(1, x),\n",
        "    'b': sp.integrate(x**2 + 2, x),\n",
        "    'c': sp.integrate(2 * sp.sin(x), x),\n",
        "    'd': sp.integrate(3 / x, x),\n",
        "    'e': sp.integrate(1 / (x**2 - 5), x),\n",
        "    'f': sp.integrate(sp.sin(x)**2 + sp.cos(x)**2, x),\n",
        "    'g': sp.integrate(5 * sp.sin(x) + 3 * sp.exp(x), x),\n",
        "    'h': sp.integrate(3 * sp.sqrt(x), x),\n",
        "    'i': sp.integrate(sp.root(5, 10), x),\n",
        "    'j': sp.integrate(sp.cos(5 / x**2 + 3), x),\n",
        "    'k': sp.integrate(sp.cos(sp.ln(x)) / x, x),\n",
        "    'l': sp.integrate(x * sp.ln(x), x),\n",
        "    'm': sp.integrate(x * sp.exp(x), x)\n",
        "}\n",
        "\n",
        "for key, value in integrals.items():\n",
        "    print(f\"Integral {key}: {value}\")\n",
        "\n"
      ]
    },
    {
      "cell_type": "markdown",
      "source": [
        "2. Calculate integrals over the interval $ [0, \\pi] $ and visualize them in GeoGebra:\n",
        "\n",
        "a) $ \\int_0^\\pi (2x + 1) \\, dx $\n",
        "\n",
        "$$ \\int_0^\\pi (2x + 1) \\, dx = \\left[ x^2 + x \\right]_0^\\pi = \\pi^2 + \\pi $$\n",
        "\n",
        "b) $ \\int_0^\\pi x^2 \\, dx $\n",
        "\n",
        "$$ \\int_0^\\pi x^2 \\, dx = \\left[ \\frac{x^3}{3} \\right]_0^\\pi = \\frac{\\pi^3}{3} $$\n",
        "\n",
        "\n"
      ],
      "metadata": {
        "id": "LI7MyDAxeO6j"
      }
    },
    {
      "cell_type": "code",
      "source": [
        "# Problem 2: Calculate integrals over the interval [0, pi]\n",
        "integral_f = sp.integrate(2*x + 1, (x, 0, sp.pi))\n",
        "integral_g = sp.integrate(x**2, (x, 0, sp.pi))\n",
        "print(f\"Integral of 2x + 1 over [0, pi]: {integral_f}\")\n",
        "print(f\"Integral of x^2 over [0, pi]: {integral_g}\")\n",
        "\n"
      ],
      "metadata": {
        "id": "PT9YP9Rcelaz"
      },
      "execution_count": null,
      "outputs": []
    },
    {
      "cell_type": "markdown",
      "source": [
        "3. Calculate the area of the region bounded by the lines: $ x = 1 $, $ x = 2 $, $ y = 0 $, and $ y = x^2 + 1 $:\n",
        "\n",
        "$$ \\int_1^2 (x^2 + 1) \\, dx = \\left[ \\frac{x^3}{3} + x \\right]_1^2 = \\left( \\frac{8}{3} + 2 \\right) - \\left( \\frac{1}{3} + 1 \\right) = \\frac{8}{3} + 2 - \\frac{1}{3} - 1 = \\frac{9}{3} + 1 = 3 $$\n",
        "\n"
      ],
      "metadata": {
        "id": "lFBiyPvKeRNx"
      }
    },
    {
      "cell_type": "code",
      "source": [
        "# Problem 3: Calculate the area of the region bounded by the lines\n",
        "area_region = sp.integrate(x**2 + 1, (x, 1, 2))\n",
        "print(f\"Area of the region bounded by x=1, x=2, y=0, y=x^2+1: {area_region}\")\n",
        "\n"
      ],
      "metadata": {
        "id": "H26mBgRLemrM"
      },
      "execution_count": null,
      "outputs": []
    },
    {
      "cell_type": "markdown",
      "source": [
        "4. Calculate the area under the sine curve over the interval $ [0, \\pi] $:\n",
        "\n",
        "$$ \\int_0^\\pi \\sin(x) \\, dx = \\left[ -\\cos(x) \\right]_0^\\pi = -\\cos(\\pi) - (-\\cos(0)) = 1 + 1 = 2 $$\n",
        "\n"
      ],
      "metadata": {
        "id": "qnusReLveSwq"
      }
    },
    {
      "cell_type": "code",
      "source": [
        "# Problem 4: Calculate the area under the sine curve over the interval [0, pi]\n",
        "area_sine = sp.integrate(sp.sin(x), (x, 0, sp.pi))\n",
        "print(f\"Area under the sine curve over [0, pi]: {area_sine}\")\n",
        "\n"
      ],
      "metadata": {
        "id": "MgwwitC_ekeh"
      },
      "execution_count": null,
      "outputs": []
    },
    {
      "cell_type": "markdown",
      "source": [
        "5. Calculate the length of the sine curve over the same interval:\n",
        "\n",
        "Using the formula for curve length:\n",
        "$$ L = \\int_0^\\pi \\sqrt{1 + (\\cos(x))^2} \\, dx $$\n",
        "\n"
      ],
      "metadata": {
        "id": "2ZsIT35ReUM9"
      }
    },
    {
      "cell_type": "code",
      "source": [
        "# Problem 5: Calculate the length of the sine curve over the interval [0, pi]\n",
        "curve_length = sp.integrate(sp.sqrt(1 + sp.cos(x)**2"
      ],
      "metadata": {
        "id": "gDirwC81epNv"
      },
      "execution_count": null,
      "outputs": []
    },
    {
      "cell_type": "markdown",
      "source": [
        "6. Find the distance of the moving particle between time $ t = 0 $ and $ t = 2 $ for the following position function: $ x(t) = 3t^2 - 6t + 1 $:\n",
        "\n",
        "First, find the velocity:\n",
        "$$ v(t) = x'(t) = 6t - 6 $$\n",
        "\n",
        "Then, find the distance traveled:\n",
        "$$ \\int_0^2 |v(t)| \\, dt = \\int_0^1 (6t - 6) \\, dt + \\int_1^2 -(6t - 6) \\, dt = \\int_0^1 (6t - 6) \\, dt + \\int_1^2 (6 - 6t) \\, dt $$\n",
        "\n",
        "$$ \\left[ 3t^2 - 6t \\right]_0^1 + \\left[ 6t - 3t^2 \\right]_1^2 = (3 - 6) - (0 - 0) + (12 - 12) - (6 - 3) = 3 $$\n",
        "\n",
        "So, the distance traveled is $ 3 $ units.\n",
        "$$"
      ],
      "metadata": {
        "id": "mHf9vfnoeVt_"
      }
    },
    {
      "cell_type": "code",
      "source": [
        "\n",
        "t = sp.symbols('t')\n",
        "x_t = 3*t**2 - 6*t + 1\n",
        "v_t = sp.diff(x_t, t)\n",
        "intervals = [(0, 1), (1, 2)]\n",
        "total_distance = 0\n",
        "for a, b in intervals:\n",
        "    distance = sp.integrate(sp.Abs(v_t), (t, a, b))\n",
        "    total_distance += distance\n",
        "\n",
        "print(f\"Total distance traveled between t=0 and t=2: {total_distance}\")\n"
      ],
      "metadata": {
        "id": "0CKL7XgkewhF"
      },
      "execution_count": null,
      "outputs": []
    }
  ]
}