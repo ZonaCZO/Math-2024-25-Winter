{
  "nbformat": 4,
  "nbformat_minor": 0,
  "metadata": {
    "colab": {
      "provenance": [],
      "authorship_tag": "ABX9TyOSjwpAAeoQJ9lWj3DMR7+R",
      "include_colab_link": true
    },
    "kernelspec": {
      "name": "python3",
      "display_name": "Python 3"
    },
    "language_info": {
      "name": "python"
    }
  },
  "cells": [
    {
      "cell_type": "markdown",
      "metadata": {
        "id": "view-in-github",
        "colab_type": "text"
      },
      "source": [
        "<a href=\"https://colab.research.google.com/github/ZonaCZO/Math-2024-25-Winter/blob/main/Section_19.ipynb\" target=\"_parent\"><img src=\"https://colab.research.google.com/assets/colab-badge.svg\" alt=\"Open In Colab\"/></a>"
      ]
    },
    {
      "cell_type": "markdown",
      "source": [
        "## 19. Limits of Sequences\n",
        "\n",
        "---\n",
        "\n",
        "### 1. Calculate:\n",
        "\n",
        "#### 1.1\n",
        "$$\n",
        "\\lim_{n \\to \\infty} \\frac{n^2 + 3n}{2n^2 - 2n}\n",
        "$$\n",
        "\n",
        "**Solution:**\n",
        "\n",
        "1. Divide numerator and denominator by $n^2$:\n",
        "   $$\n",
        "   \\frac{n^2 + 3n}{2n^2 - 2n} = \\frac{1 + \\frac{3}{n}}{2 - \\frac{2}{n}}\n",
        "   $$\n",
        "\n",
        "2. As $n \\to \\infty$, the terms $\\frac{3}{n}$ and $\\frac{2}{n}$ approach $0$:\n",
        "   $$\n",
        "   \\lim_{n \\to \\infty} \\frac{1 + \\frac{3}{n}}{2 - \\frac{2}{n}} = \\frac{1 + 0}{2 - 0} = \\frac{1}{2}\n",
        "   $$\n",
        "\n",
        "**Answer**: $ \\frac{1}{2} $\n",
        "\n",
        "---\n",
        "\n",
        "#### 1.2\n",
        "$$\n",
        "\\lim_{n \\to \\infty} \\frac{(2n + 3)^3}{n^3 - 1}\n",
        "$$\n",
        "\n",
        "**Solution:**\n",
        "\n",
        "1. Factor $n^3$ from both numerator and denominator:\n",
        "   $$\n",
        "   \\frac{(2n + 3)^3}{n^3 - 1} = \\frac{n^3 \\cdot \\left(2 + \\frac{3}{n}\\right)^3}{n^3 \\cdot \\left(1 - \\frac{1}{n^3}\\right)}\n",
        "   $$\n",
        "\n",
        "2. Simplify:\n",
        "   $$\n",
        "   \\frac{(2 + \\frac{3}{n})^3}{1 - \\frac{1}{n^3}}\n",
        "   $$\n",
        "\n",
        "3. As $n \\to \\infty$, the term $\\frac{3}{n}$ approaches $0$ and $\\frac{1}{n^3}$ approaches $0$:\n",
        "   $$\n",
        "   \\lim_{n \\to \\infty} \\frac{(2 + 0)^3}{1 - 0} = \\frac{2^3}{1} = 8\n",
        "   $$\n",
        "\n",
        "**Answer**: $ 8 $\n",
        "\n",
        "---\n",
        "\n",
        "Ч"
      ],
      "metadata": {
        "id": "T0B4qoL1YOgo"
      }
    },
    {
      "cell_type": "code",
      "execution_count": 1,
      "metadata": {
        "colab": {
          "base_uri": "https://localhost:8080/"
        },
        "id": "r-7G5IFfPvBw",
        "outputId": "b5880379-a097-46cb-8673-12b4f7db7f91"
      },
      "outputs": [
        {
          "output_type": "execute_result",
          "data": {
            "text/plain": [
              "(1/2, 8)"
            ]
          },
          "metadata": {},
          "execution_count": 1
        }
      ],
      "source": [
        "from sympy import symbols, limit, oo, sin, factorial, simplify, exp\n",
        "\n",
        "# Variables and functions\n",
        "n = symbols('n', positive=True, integer=True)\n",
        "\n",
        "# 1.1: lim (n^2 + 3n) / (2n^2 - 2n)\n",
        "expr1 = (n**2 + 3*n) / (2*n**2 - 2*n)\n",
        "result1 = limit(expr1, n, oo)\n",
        "\n",
        "# 1.2: lim ((2n + 3)^3) / (n^3 - 1)\n",
        "expr2 = ((2*n + 3)**3) / (n**3 - 1)\n",
        "result2 = limit(expr2, n, oo)\n",
        "\n",
        "result1, result2"
      ]
    },
    {
      "cell_type": "markdown",
      "source": [
        "\n",
        "### 2. Prove using the squeeze theorem:\n",
        "\n",
        "$$\n",
        "\\lim_{n \\to \\infty} \\frac{\\sin(n)}{n}\n",
        "$$\n",
        "\n",
        "**Solution:**\n",
        "\n",
        "1. The sine function is bounded:\n",
        "   $$\n",
        "   -1 \\leq \\sin(n) \\leq 1\n",
        "   $$\n",
        "\n",
        "2. Dividing by $n$ (for $n > 0$):\n",
        "   $$\n",
        "   -\\frac{1}{n} \\leq \\frac{\\sin(n)}{n} \\leq \\frac{1}{n}\n",
        "   $$\n",
        "\n",
        "3. As $n \\to \\infty$, both $-\\frac{1}{n}$ and $\\frac{1}{n}$ approach $0$:\n",
        "   $$\n",
        "   \\lim_{n \\to \\infty} -\\frac{1}{n} = 0 \\quad \\text{and} \\quad \\lim_{n \\to \\infty} \\frac{1}{n} = 0\n",
        "   $$\n",
        "\n",
        "4. By the squeeze theorem:\n",
        "   $$\n",
        "   \\lim_{n \\to \\infty} \\frac{\\sin(n)}{n} = 0\n",
        "   $$\n",
        "\n",
        "**Answer**: $ 0 $\n",
        "\n",
        "---\n",
        "\n"
      ],
      "metadata": {
        "id": "Anu5t3vJYRKw"
      }
    },
    {
      "cell_type": "code",
      "source": [
        "# 2: lim sin(n) / n (using squeeze theorem)\n",
        "expr3 = sin(n) / n\n",
        "result3 = limit(expr3, n, oo)\n",
        "result3"
      ],
      "metadata": {
        "id": "t6Uh0SB5YpUq"
      },
      "execution_count": null,
      "outputs": []
    },
    {
      "cell_type": "markdown",
      "source": [
        "### 3. Find the limit of the sequence:\n",
        "\n",
        "$$\n",
        "a_n = \\left( 1 + \\frac{1}{n} \\right)^n\n",
        "$$\n",
        "\n",
        "**Solution:**\n",
        "\n",
        "1. By definition, this sequence converges to the mathematical constant $e$:\n",
        "   $$\n",
        "   \\lim_{n \\to \\infty} \\left( 1 + \\frac{1}{n} \\right)^n = e\n",
        "   $$\n",
        "\n",
        "**Answer**: $ e $\n"
      ],
      "metadata": {
        "id": "7G7kiQVQYSSN"
      }
    },
    {
      "cell_type": "code",
      "source": [
        "# 3: lim (1 + 1/n)^n\n",
        "expr4 = (1 + 1/n)**n\n",
        "result4 = limit(expr4, n, oo)\n"
      ],
      "metadata": {
        "id": "zTFmdqFhY3-2"
      },
      "execution_count": null,
      "outputs": []
    }
  ]
}
