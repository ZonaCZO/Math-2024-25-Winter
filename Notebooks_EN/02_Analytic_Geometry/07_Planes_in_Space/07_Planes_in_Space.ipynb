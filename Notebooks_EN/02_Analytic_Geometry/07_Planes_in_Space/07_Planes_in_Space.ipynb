{
  "nbformat": 4,
  "nbformat_minor": 0,
  "metadata": {
    "colab": {
      "provenance": [],
      "authorship_tag": "ABX9TyM7ZktQCqM10nbkXxewhSVq",
      "include_colab_link": true
    },
    "kernelspec": {
      "name": "python3",
      "display_name": "Python 3"
    },
    "language_info": {
      "name": "python"
    }
  },
  "cells": [
    {
      "cell_type": "markdown",
      "metadata": {
        "id": "view-in-github",
        "colab_type": "text"
      },
      "source": [
        "<a href=\"https://colab.research.google.com/github/ZonaCZO/Math-2024-25-Winter/blob/main/07_Planes_in_Space.ipynb\" target=\"_parent\"><img src=\"https://colab.research.google.com/assets/colab-badge.svg\" alt=\"Open In Colab\"/></a>"
      ]
    },
    {
      "cell_type": "markdown",
      "source": [
        "# Solutions to Plane Problems\n",
        "\n",
        "## 1. Plane through points \\( A(1,2,3) \\), \\( B(3,4,5) \\), and \\( C(2,1,4) \\)\n",
        "\n",
        "To find the equation of the plane passing through points \\( A(1,2,3) \\), \\( B(3,4,5) \\), and \\( C(2,1,4) \\), we use the determinant method.\n",
        "\n",
        "### Step-by-Step Solution:\n",
        "\n",
        "The equation of the plane can be written as:\n",
        "\n",
        "\n",
        "\\[ a(x - x_1) + b(y - y_1) + c(z - z_1) = 0 \\]\n",
        "\n",
        "\n",
        "Substituting \\( A(1,2,3) \\) into the equation, we get:\n",
        "\n",
        "\n",
        "\\[ a(x - 1) + b(y - 2) + c(z - 3) = 0 \\]\n",
        "\n",
        "\n",
        "\n",
        "We need to find the values of \\( a \\), \\( b \\), and \\( c \\). We use the cross product of vectors \\( \\overrightarrow{AB} \\) and \\( \\overrightarrow{AC} \\):\n",
        "\n",
        "\n",
        "\\[ \\overrightarrow{AB} = (3-1, 4-2, 5-3) = (2, 2, 2) \\]\n",
        "\n",
        "\n",
        "\n",
        "\n",
        "\\[ \\overrightarrow{AC} = (2-1, 1-2, 4-3) = (1, -1, 1) \\]\n",
        "\n",
        "\n",
        "\n",
        "The normal vector \\( \\overrightarrow{n} \\) of the plane is \\( \\overrightarrow{AB} \\times \\overrightarrow{AC} \\):\n",
        "\n",
        "\n",
        "\\[ \\overrightarrow{n} = \\begin{vmatrix}\n",
        "\\mathbf{i} & \\mathbf{j} & \\mathbf{k} \\\\\n",
        "2 & 2 & 2 \\\\\n",
        "1 & -1 & 1 \\\\\n",
        "\\end{vmatrix} = (4 - (-2))\\mathbf{i} - (2 - 2)\\mathbf{j} + (2 - (-2))\\mathbf{k} \\]\n",
        "\n",
        "\n",
        "\n",
        "\n",
        "\\[ \\overrightarrow{n} = (6, 0, 4) \\]\n",
        "\n",
        "\n",
        "\n",
        "Thus, \\( a = 6 \\), \\( b = 0 \\), \\( c = 4 \\). The equation of the plane is:\n",
        "\n",
        "\n",
        "\\[ 6(x - 1) + 0(y - 2) + 4(z - 3) = 0 \\]\n",
        "\n",
        "\n",
        "\n",
        "\n",
        "\\[ 6x + 4z = 18 \\]\n",
        "\n",
        "\n",
        "\n",
        "\n",
        "\\[ 3x + 2z = 9 \\]\n",
        "\n",
        "\n",
        "\n",
        "The final equation of the plane is:\n",
        "\n",
        "\n",
        "\\[ 3x + 2z = 9 \\]\n",
        "\n"
      ],
      "metadata": {
        "id": "e4M_fDQOpfMR"
      }
    },
    {
      "cell_type": "code",
      "source": [
        "from sympy import symbols, Eq, solve, Matrix\n",
        "\n",
        "# Define symbols\n",
        "x, y, z, t = symbols('x y z t')\n",
        "\n",
        "# Problem 1: Plane through points A, B, C\n",
        "A = (1, 2, 3)\n",
        "B = (3, 4, 5)\n",
        "C = (2, 1, 4)\n",
        "\n",
        "# Vectors AB and AC\n",
        "AB = (B[0]-A[0], B[1]-A[1], B[2]-A[2])\n",
        "AC = (C[0]-A[0], C[1]-A[1], C[2]-A[2])\n",
        "\n",
        "# Cross product AB x AC\n",
        "n = (AB[1]*AC[2] - AB[2]*AC[1], AB[2]*AC[0] - AB[0]*AC[2], AB[0]*AC[1] - AB[1]*AC[0])\n",
        "\n",
        "# Plane equation: n1*(x - A1) + n2*(y - A2) + n3*(z - A3) = 0\n",
        "plane_eq1 = Eq(n[0]*(x - A[0]) + n[1]*(y - A[1]) + n[2]*(z - A[2]), 0)\n",
        "\n",
        "plane_eq1"
      ],
      "metadata": {
        "colab": {
          "base_uri": "https://localhost:8080/",
          "height": 38
        },
        "id": "wCMu6VNbrMjU",
        "outputId": "bdd8400c-a4e1-4008-ab74-765c170581c5"
      },
      "execution_count": 4,
      "outputs": [
        {
          "output_type": "execute_result",
          "data": {
            "text/plain": [
              "Eq(4*x - 4*z + 8, 0)"
            ],
            "text/latex": "$\\displaystyle 4 x - 4 z + 8 = 0$"
          },
          "metadata": {},
          "execution_count": 4
        }
      ]
    },
    {
      "cell_type": "markdown",
      "source": [
        "## 2. Plane through point \\$ A(1,2,3) \\$ and parallel to plane \\$ 2x + 3y + 4z = 5 \\$\n",
        "\n",
        "### Step-by-Step Solution:\n",
        "\n",
        "The plane is parallel to \\$ 2x + 3y + 4z = 5 \\$ and passes through \\( A(1,2,3) \\). Hence, it has the same normal vector $( \\overrightarrow{n} = [2,3,4] )$.\n",
        "\n",
        "Using the plane equation:\n",
        "\n",
        "\n",
        "\\$ 2(x - 1) + 3(y - 2) + 4(z - 3) = 0 \\$\n",
        "\n",
        "\n",
        "\n",
        "\n",
        "\\$ 2x + 3y + 4z - 26 = 0 \\$\n",
        "\n",
        "\n",
        "\n",
        "The final equation of the plane is:\n",
        "\n",
        "\n",
        "\\$ 2x + 3y + 4z = 26 \\$\n"
      ],
      "metadata": {
        "id": "z-SPCDpwrUyF"
      }
    },
    {
      "cell_type": "code",
      "source": [
        "# Problem 2: Plane through point A and parallel to given plane\n",
        "A = (1, 2, 3)\n",
        "n = (2, 3, 4)\n",
        "\n",
        "# Plane equation: n1*(x - A1) + n2*(y - A2) + n3*(z - A3) = 0\n",
        "plane_eq2 = Eq(n[0]*(x - A[0]) + n[1]*(y - A[1]) + n[2]*(z - A[2]), 0)\n",
        "\n",
        "plane_eq2"
      ],
      "metadata": {
        "colab": {
          "base_uri": "https://localhost:8080/",
          "height": 38
        },
        "id": "PgLShdgprXGV",
        "outputId": "377e2f99-dba0-488a-e417-6612efe01aac"
      },
      "execution_count": 5,
      "outputs": [
        {
          "output_type": "execute_result",
          "data": {
            "text/plain": [
              "Eq(2*x + 3*y + 4*z - 20, 0)"
            ],
            "text/latex": "$\\displaystyle 2 x + 3 y + 4 z - 20 = 0$"
          },
          "metadata": {},
          "execution_count": 5
        }
      ]
    },
    {
      "cell_type": "markdown",
      "source": [
        "## 3. Plane through point \\$ A(2,3,4) \\$ and normal to vector \\$ \\overrightarrow{n} = (1, -2, 3) \\$\n",
        "\n",
        "### Step-by-Step Solution:\n",
        "\n",
        "The plane is normal to vector \\$ \\overrightarrow{n} = (1, -2, 3) \\$ and passes through \\$ A(2,3,4) \\$. Therefore, the plane equation is:\n",
        "\n",
        "\n",
        "$$ 1(x - 2) - 2(y - 3) + 3(z - 4) = 0 $$\n",
        "\n",
        "\n",
        "\n",
        "\n",
        "$$ x - 2y + 3z - 16 = 0 $$\n",
        "\n",
        "\n",
        "\n",
        "The final equation of the plane is:\n",
        "\n",
        "\n",
        "\\$ x - 2y + 3z = 16 \\$\n",
        "\n",
        "\n"
      ],
      "metadata": {
        "id": "LhInuFzSrwoT"
      }
    },
    {
      "cell_type": "code",
      "source": [
        "# Problem 3: Plane through point A and normal to vector n\n",
        "A = (2, 3, 4)\n",
        "n = (1, -2, 3)\n",
        "\n",
        "# Plane equation: n1*(x - A1) + n2*(y - A2) + n3*(z - A3) = 0\n",
        "plane_eq3 = Eq(n[0]*(x - A[0]) + n[1]*(y - A[1]) + n[2]*(z - A[2]), 0)\n",
        "\n",
        "plane_eq3"
      ],
      "metadata": {
        "colab": {
          "base_uri": "https://localhost:8080/",
          "height": 38
        },
        "id": "m7cib6estvUM",
        "outputId": "c2fc962d-5484-42da-a13b-b02f30490a06"
      },
      "execution_count": 6,
      "outputs": [
        {
          "output_type": "execute_result",
          "data": {
            "text/plain": [
              "Eq(x - 2*y + 3*z - 8, 0)"
            ],
            "text/latex": "$\\displaystyle x - 2 y + 3 z - 8 = 0$"
          },
          "metadata": {},
          "execution_count": 6
        }
      ]
    },
    {
      "cell_type": "markdown",
      "source": [
        "## 4. Intersection line of planes \\$ 2x - y + z = 3 \\$ and \\$ x + y + 4z = 6 \\$\n",
        "\n",
        "### Step-by-Step Solution:\n",
        "\n",
        "To find the line of intersection, we solve the system of plane equations:\n",
        "\n",
        "\n",
        "\n",
        "$$ 2x - y + z = 3 $$\n",
        "\n",
        "\n",
        "\n",
        "\n",
        "$$ x + y + 4z = 6 $$\n",
        "\n",
        "\n",
        "\n",
        "We can solve these equations using parametric form. Let \\$ z = t \\$:\n",
        "\n",
        "From the first equation:\n",
        "\n",
        "\n",
        "\\$ 2x - y + t = 3 \\$\n",
        "\n",
        "\n",
        "\n",
        "From the second equation:\n",
        "\n",
        "\n",
        "\\$ x + y + 4t = 6 \\$\n",
        "\n",
        "\n",
        "\n",
        "Adding these equations gives:\n",
        "\n",
        "\n",
        "\\$ 3x + 5t = 9 \\$\n",
        "\n",
        "\n",
        "\n",
        "\n",
        "\\$ x = 3 - \\frac{5}{3}t \\$\n",
        "\n",
        "\n",
        "\n",
        "Substituting \\$ x = 3 - \\frac{5}{3}t \\$ into \\$ 2x - y + t = 3 \\$, we get:\n",
        "\n",
        "\n",
        "\\$ 6 - \\frac{10}{3}t - y + t = 3 \\$\n",
        "\n",
        "\n",
        "\n",
        "\n",
        "\\$ -y + \\frac{-7}{3}t = -3 \\$\n",
        "\n",
        "\n",
        "\n",
        "\n",
        "\\$ y = 3 - \\frac{7}{3}t \\$\n",
        "\n",
        "\n",
        "\n",
        "The parametric equations for the line of intersection are:\n",
        "\n",
        "\n",
        "\\$ x = 3 - \\frac{5}{3}t \\$\n",
        "\n",
        "\n",
        "\n",
        "\n",
        "\\$ y = 3 - \\frac{7}{3}t \\$\n",
        "\n",
        "\n",
        "\n",
        "\n",
        "\\$ z = t \\$\n"
      ],
      "metadata": {
        "id": "xNyQoh2gt1F1"
      }
    },
    {
      "cell_type": "code",
      "source": [
        "# Problem 4: Intersection line of two planes\n",
        "plane1 = Eq(2*x - y + z, 3)\n",
        "plane2 = Eq(x + y + 4*z, 6)\n",
        "\n",
        "# Solve system of equations for z in terms of t\n",
        "solutions = solve((plane1, plane2), (x, y))\n",
        "\n",
        "solutions"
      ],
      "metadata": {
        "colab": {
          "base_uri": "https://localhost:8080/"
        },
        "id": "T1LKemYYw5Z1",
        "outputId": "40c8805a-b1d1-4532-951f-11f6589826e9"
      },
      "execution_count": 7,
      "outputs": [
        {
          "output_type": "execute_result",
          "data": {
            "text/plain": [
              "{x: 3 - 5*z/3, y: 3 - 7*z/3}"
            ]
          },
          "metadata": {},
          "execution_count": 7
        }
      ]
    },
    {
      "cell_type": "markdown",
      "source": [
        "## 5. Distance from point \\$ P(1,2,3) \\$ to plane \\$ 3x + 4y + 5z = 6 \\$\n",
        "\n",
        "### Step-by-Step Solution:\n",
        "\n",
        "The distance from a point to a plane is given by:\n",
        "\n",
        "\n",
        "$$ D = \\frac{|ax_1 + by_1 + cz_1 + d|}{\\sqrt{a^2 + b^2 + c^2}} $$\n",
        "\n",
        "\n",
        "\n",
        "Substituting \\$ P(1,2,3) \\$ and the plane \\$ 3x + 4y + 5z = 6 \\$:\n",
        "\n",
        "\n",
        "\\$ D = \\frac{|3(1) + 4(2) + 5(3) - 6|}{\\sqrt{3^2 + 4^2 + 5^2}} \\$\n",
        "\n",
        "\n",
        "\n",
        "\n",
        "\\$ D = \\frac{|3 + 8 + 15 - 6|}{\\sqrt{9 + 16 + 25}} \\$\n",
        "\n",
        "\n",
        "\n",
        "\n",
        "\\$ D = \\frac{20}{\\sqrt{50}} \\$\n",
        "\n",
        "\n",
        "\n",
        "\n",
        "\\$ D = \\frac{20}{5\\sqrt{2}} \\$\n",
        "\n",
        "\n",
        "\n",
        "\n",
        "\\$ D = 2\\sqrt{2} \\$\n",
        "\n",
        "\n",
        "\n",
        "The distance from point \\$ P \\$ to the plane is:\n",
        "\n",
        "\n",
        "\\$ D = 2\\sqrt{2} \\$\n"
      ],
      "metadata": {
        "id": "lv6X0E_butyW"
      }
    },
    {
      "cell_type": "code",
      "source": [
        "# Problem 5: Distance from point P to plane\n",
        "P = (1, 2, 3)\n",
        "plane = Eq(3*x + 4*y + 5*z, 6)\n",
        "\n",
        "# Calculate distance\n",
        "distance = abs(3*P[0] + 4*P[1] + 5*P[2] - 6) / (3**2 + 4**2 + 5**2)**0.5\n",
        "\n",
        "distance"
      ],
      "metadata": {
        "colab": {
          "base_uri": "https://localhost:8080/"
        },
        "id": "K6885Q41w7q7",
        "outputId": "9ab32cd8-ed5d-4af0-8357-5a99d2013059"
      },
      "execution_count": 8,
      "outputs": [
        {
          "output_type": "execute_result",
          "data": {
            "text/plain": [
              "2.82842712474619"
            ]
          },
          "metadata": {},
          "execution_count": 8
        }
      ]
    },
    {
      "cell_type": "markdown",
      "source": [
        "\n",
        "## 6. Angle between planes $x + 2y + 2z = 0$ and $2x - y + 2z = 3$\n",
        "\n",
        "### Step-by-Step Solution:\n",
        "\n",
        "The angle $\\theta$ between two planes can be calculated using the dot product of their normal vectors:\n",
        "\n",
        "$$\\cos \\theta = \\frac{|\\overrightarrow{n_1} \\cdot \\overrightarrow{n_2}|}{|\\overrightarrow{n_1}| |\\overrightarrow{n_2}|}$$\n",
        "\n",
        "For planes $x + 2y + 2z = 0$ and $2x - y + 2z = 3$:\n",
        "\n",
        "$$\\overrightarrow{n_1} = (1, 2, 2)$$\n",
        "$$\\overrightarrow{n_2} = (2, -1, 2)$$\n",
        "\n",
        "The dot product $\\overrightarrow{n_1} \\cdot \\overrightarrow{n_2}$:\n",
        "$$\\overrightarrow{n_1} \\cdot \\overrightarrow{n_2} = 1 \\cdot 2 + 2 \\cdot (-1) + 2 \\cdot 2 = 2 - 2 + 4 = 4$$\n",
        "\n",
        "The magnitudes of the normal vectors:\n",
        "$$|\\overrightarrow{n_1}| = \\sqrt{1^2 + 2^2 + 2^2} = \\sqrt{1 + 4 + 4} = 3$$\n",
        "$$|\\overrightarrow{n_2}| = \\sqrt{2^2 + (-1)^2 + 2^2} = \\sqrt{4 + 1 + 4} = 3$$\n",
        "\n",
        "Therefore:\n",
        "$$\\cos \\theta = \\frac{4}{3 \\times 3} = \\frac{4}{9}$$\n",
        "\n",
        "The angle $\\theta$:\n",
        "$$\\theta = \\arccos \\left( \\frac{4}{9} \\right)$$\n",
        "\n"
      ],
      "metadata": {
        "id": "-Kg2EnDlvuBr"
      }
    },
    {
      "cell_type": "code",
      "source": [
        "# Problem 6: Angle between two planes\n",
        "n1 = Matrix([1, 2, 2])\n",
        "n2 = Matrix([2, -1, 2])\n",
        "\n",
        "# Calculate angle\n",
        "cos_theta = n1.dot(n2) / (n1.norm() * n2.norm())\n",
        "theta = cos_theta.acos()\n",
        "\n",
        "theta"
      ],
      "metadata": {
        "id": "z-1_0srRw9m3"
      },
      "execution_count": null,
      "outputs": []
    },
    {
      "cell_type": "markdown",
      "source": [
        "## 7. Distance between two planes $3x + 4y + 5z = 6$ and $6x + 8y + 10z = 12$\n",
        "\n",
        "### Step-by-Step Solution:\n",
        "\n",
        "The distance between two parallel planes $ax + by + cz + d_1 = 0$ and $ax + by + cz + d_2 = 0$ is given by:\n",
        "$$D = \\frac{|d_2 - d_1|}{\\sqrt{a^2 + b^2 + c^2}}$$\n",
        "\n",
        "For the given planes $3x + 4y + 5z = 6$ and $6x + 8y + 10z = 12$:\n",
        "\n",
        "Here, the second plane can be simplified by dividing all terms by 2:\n",
        "$$3x + 4y + 5z = 6$$\n",
        "\n",
        "These planes are actually the same, so the distance is:\n",
        "$$D = 0$$"
      ],
      "metadata": {
        "id": "RV4BkrEEv3Em"
      }
    },
    {
      "cell_type": "code",
      "source": [
        "# Problem 7: Distance between two planes\n",
        "d1 = 6\n",
        "d2 = 12\n",
        "\n",
        "# Simplified plane equations\n",
        "a, b, c = 3, 4, 5\n",
        "\n",
        "# Calculate distance between parallel planes\n",
        "distance_planes = abs(d2 - d1) / (a**2 + b**2 + c**2)**0.5\n",
        "\n",
        "distance_planes"
      ],
      "metadata": {
        "id": "Qw3ACc7Zw_ob"
      },
      "execution_count": null,
      "outputs": []
    },
    {
      "cell_type": "markdown",
      "source": [
        "## 8. Line perpendicular to plane $2x + 3y + z = 4$ and passing through point $P(1,2,3)$\n",
        "\n",
        "### Step-by-Step Solution:\n",
        "\n",
        "To find the equation of the line perpendicular to the plane $2x + 3y + z = 4$ and passing through $P(1,2,3)$, we use the normal vector of the plane, which is $(2, 3, 1)$.\n",
        "\n",
        "The parametric equations for the line can be written as:\n",
        "$$x = 1 + 2t$$\n",
        "$$y = 2 + 3t$$\n",
        "$$z = 3 + t$$\n",
        "\n",
        "Here, $t$ is the parameter.\n",
        "\n"
      ],
      "metadata": {
        "id": "tLXrfT34wGV5"
      }
    },
    {
      "cell_type": "code",
      "source": [
        "# Problem 8: Line perpendicular to a plane and passing through a point\n",
        "normal_vector = Matrix([2, 3, 1])\n",
        "point_P = Matrix([1, 2, 3])\n",
        "\n",
        "# Parametric equation of the line\n",
        "line_eq = point_P + t * normal_vector\n",
        "\n",
        "line_eq"
      ],
      "metadata": {
        "id": "lh0P5P0OxBtw"
      },
      "execution_count": null,
      "outputs": []
    },
    {
      "cell_type": "markdown",
      "source": [
        "## 9. Plane passing through points $A(1,1,1)$, $B(2,3,5)$, and $C(4,0,2)$\n",
        "\n",
        "### Step-by-Step Solution:\n",
        "\n",
        "The equation of the plane can be written as:\n",
        "$$a(x - x_1) + b(y - y_1) + c(z - z_1) = 0$$\n",
        "Substituting $A(1,1,1)$ into the equation, we get:\n",
        "$$a(x - 1) + b(y - 1) + c(z - 1) = 0$$\n",
        "\n",
        "We need to find the values of $a$, $b$, and $c$. We use the cross product of vectors $\\overrightarrow{AB}$ and $\\overrightarrow{AC}$:\n",
        "$$\\overrightarrow{AB} = (2-1, 3-1, 5-1) = (1, 2, 4)$$\n",
        "$$\\overrightarrow{AC} = (4-1, 0-1, 2-1) = (3, -1, 1)$$\n",
        "\n",
        "The normal vector $\\overrightarrow{n}$ of the plane is $\\overrightarrow{AB} \\times \\overrightarrow{AC}$:\n",
        "$$\\overrightarrow{n} = \\begin{vmatrix}\n",
        "\\mathbf{i} & \\mathbf{j} & \\mathbf{k} \\\\\n",
        "1 & 2 & 4 \\\\\n",
        "3 & -1 & 1 \\\\\n",
        "\\end{vmatrix} = (2 \\cdot 1 - 4 \\cdot (-1))\\mathbf{i} - (1 \\cdot 1 - 4 \\cdot 3)\\mathbf{j} + (1 \\cdot (-1) - 2 \\cdot 3)\\mathbf{k}$$\n",
        "$$\\overrightarrow{n} = (2 + 4)\\mathbf{i} - (1 - 12)\\mathbf{j} + (-1 - 6)\\mathbf{k}$$\n",
        "$$\\overrightarrow{n} = (6, 11, -7)$$\n",
        "\n",
        "Thus, $a = 6$, $b = 11$, $c = -7$. The equation of the plane is:\n",
        "$$6(x - 1) + 11(y - 1) - 7(z - 1) = 0$$\n",
        "$$6x + 11y - 7z = 24$$\n",
        "\n"
      ],
      "metadata": {
        "id": "76ikChmfwJ1q"
      }
    },
    {
      "cell_type": "code",
      "source": [
        "# Problem 9: Plane through points A, B, C\n",
        "A = (1, 1, 1)\n",
        "B = (2, 3, 5)\n",
        "C = (4, 0, 2)\n",
        "\n",
        "# Vectors AB and AC\n",
        "AB = (B[0]-A[0], B[1]-A[1], B[2]-A[2])\n",
        "AC = (C[0]-A[0], C[1]-A[1], C[2]-A[2])\n",
        "\n",
        "# Cross product AB x AC\n",
        "n = (AB[1]*AC[2] - AB[2]*AC[1], AB[2]*AC[0] - AB[0]*AC[2], AB[0]*AC[1] - AB[1]*AC[0])\n",
        "\n",
        "# Plane equation: n1*(x - A1) + n2*(y - A2) + n3*(z - A3) = 0\n",
        "plane_eq9 = Eq(n[0]*(x - A[0]) + n[1]*(y - A[1]) + n[2]*(z - A[2]), 0)\n",
        "\n",
        "plane_eq9"
      ],
      "metadata": {
        "id": "1LDULnZ7xD-V"
      },
      "execution_count": null,
      "outputs": []
    },
    {
      "cell_type": "markdown",
      "source": [
        "## 10. Intersection of line $x = 1 + t, y = 2 - t, z = 3t$ with plane $x - y + z = 4$\n",
        "\n",
        "### Step-by-Step Solution:\n",
        "\n",
        "To find the intersection of the line with the plane, we substitute the parametric equations of the line into the plane equation.\n",
        "\n",
        "Substitute $x = 1 + t$, $y = 2 - t$, $z = 3t$ into $x - y + z = 4$:\n",
        "$$(1 + t) - (2 - t) + 3t = 4$$\n",
        "$$1 + t - 2 + t + 3t = 4$$\n",
        "$$5t - 1 = 4$$\n",
        "$$5t = 5$$\n",
        "$$t = 1$$\n",
        "\n",
        "Now substitute $t = 1$ back into the parametric equations of the line:\n",
        "$$x = 1 + 1 = 2$$\n",
        "$$y = 2 - 1 = 1$$\n",
        "$$z = 3 \\cdot 1 = 3$$\n",
        "\n",
        "The intersection point is $(2, 1, 3)$.\n"
      ],
      "metadata": {
        "id": "I-3l1B7VwLn1"
      }
    },
    {
      "cell_type": "code",
      "source": [
        "# Problem 10: Intersection of line with plane\n",
        "line_x = 1 + t\n",
        "line_y = 2 - t\n",
        "line_z = 3*t\n",
        "\n",
        "plane_eq = Eq(line_x - line_y + line_z, 4)\n",
        "\n",
        "# Solve for t\n",
        "t_value = solve(plane_eq, t)[0]\n",
        "\n",
        "# Substitute t_value into parametric equations of the line\n",
        "intersection_point = (line_x.subs(t, t_value), line_y.subs(t, t_value), line_z.subs(t, t_value))\n",
        "intersection_point"
      ],
      "metadata": {
        "colab": {
          "base_uri": "https://localhost:8080/",
          "height": 211
        },
        "id": "h7jTeYEVxFjQ",
        "outputId": "969724a1-c845-4540-d176-9109558cb18e"
      },
      "execution_count": 1,
      "outputs": [
        {
          "output_type": "error",
          "ename": "NameError",
          "evalue": "name 't' is not defined",
          "traceback": [
            "\u001b[0;31m---------------------------------------------------------------------------\u001b[0m",
            "\u001b[0;31mNameError\u001b[0m                                 Traceback (most recent call last)",
            "\u001b[0;32m<ipython-input-1-e6e22557b76c>\u001b[0m in \u001b[0;36m<cell line: 2>\u001b[0;34m()\u001b[0m\n\u001b[1;32m      1\u001b[0m \u001b[0;31m# Problem 10: Intersection of line with plane\u001b[0m\u001b[0;34m\u001b[0m\u001b[0;34m\u001b[0m\u001b[0m\n\u001b[0;32m----> 2\u001b[0;31m \u001b[0mline_x\u001b[0m \u001b[0;34m=\u001b[0m \u001b[0;36m1\u001b[0m \u001b[0;34m+\u001b[0m \u001b[0mt\u001b[0m\u001b[0;34m\u001b[0m\u001b[0;34m\u001b[0m\u001b[0m\n\u001b[0m\u001b[1;32m      3\u001b[0m \u001b[0mline_y\u001b[0m \u001b[0;34m=\u001b[0m \u001b[0;36m2\u001b[0m \u001b[0;34m-\u001b[0m \u001b[0mt\u001b[0m\u001b[0;34m\u001b[0m\u001b[0;34m\u001b[0m\u001b[0m\n\u001b[1;32m      4\u001b[0m \u001b[0mline_z\u001b[0m \u001b[0;34m=\u001b[0m \u001b[0;36m3\u001b[0m\u001b[0;34m*\u001b[0m\u001b[0mt\u001b[0m\u001b[0;34m\u001b[0m\u001b[0;34m\u001b[0m\u001b[0m\n\u001b[1;32m      5\u001b[0m \u001b[0;34m\u001b[0m\u001b[0m\n",
            "\u001b[0;31mNameError\u001b[0m: name 't' is not defined"
          ]
        }
      ]
    }
  ]
}
