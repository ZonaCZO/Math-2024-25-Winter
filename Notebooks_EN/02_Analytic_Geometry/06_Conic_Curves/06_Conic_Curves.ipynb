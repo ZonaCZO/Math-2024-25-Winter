{
  "nbformat": 4,
  "nbformat_minor": 0,
  "metadata": {
    "colab": {
      "provenance": [],
      "authorship_tag": "ABX9TyM7Wt+xTEbehAbfl0uHmaAK",
      "include_colab_link": true
    },
    "kernelspec": {
      "name": "python3",
      "display_name": "Python 3"
    },
    "language_info": {
      "name": "python"
    }
  },
  "cells": [
    {
      "cell_type": "markdown",
      "metadata": {
        "id": "view-in-github",
        "colab_type": "text"
      },
      "source": [
        "<a href=\"https://colab.research.google.com/github/ZonaCZO/Math-2024-25-Winter/blob/main/06_Conic_Curves.ipynb\" target=\"_parent\"><img src=\"https://colab.research.google.com/assets/colab-badge.svg\" alt=\"Open In Colab\"/></a>"
      ]
    },
    {
      "cell_type": "markdown",
      "source": [
        "# Solutions to Conic Sections Problems\n",
        "\n",
        "## 1. Equation of a circle with center at $A(1,2)$ and radius $r = 3$\n",
        "\n",
        "The equation of a circle with center $(h, k)$ and radius $r$ is given by:\n",
        "$$ (x - h)^2 + (y - k)^2 = r^2 $$\n",
        "\n",
        "Substituting $h = 1$, $k = 2$, and $r = 3$:\n",
        "$$ (x - 1)^2 + (y - 2)^2 = 3^2 $$\n",
        "$$ (x - 1)^2 + (y - 2)^2 = 9 $$\n",
        "\n",
        "\n",
        "\n",
        "\n",
        "\n",
        "\n",
        "\n",
        "\n",
        "\n",
        "\n"
      ],
      "metadata": {
        "id": "tWVI06asznIV"
      }
    },
    {
      "cell_type": "code",
      "execution_count": 2,
      "metadata": {
        "colab": {
          "base_uri": "https://localhost:8080/",
          "height": 39
        },
        "id": "L_Jkw4d7zl93",
        "outputId": "8899251d-be5f-42fe-912a-813fc20f2c29"
      },
      "outputs": [
        {
          "output_type": "execute_result",
          "data": {
            "text/plain": [
              "(x - 1)**2 + (y - 2)**2 - 9"
            ],
            "text/latex": "$\\displaystyle \\left(x - 1\\right)^{2} + \\left(y - 2\\right)^{2} - 9$"
          },
          "metadata": {},
          "execution_count": 2
        }
      ],
      "source": [
        "from sympy import symbols, Eq, solve, sqrt\n",
        "\n",
        "# Define symbols\n",
        "x, y, t = symbols('x y t')\n",
        "\n",
        "# Problem 1: Equation of a circle with center at A(1,2) and radius r = 3\n",
        "h, k, r = 1, 2, 3\n",
        "circle_eq = (x - h)**2 + (y - k)**2 - r**2\n",
        "\n",
        "circle_eq\n",
        "\n",
        "\n"
      ]
    },
    {
      "cell_type": "markdown",
      "source": [
        "## 2. Equation of a parabola intersecting the Ox axis at points $x = 2$, $x = 4$, and passing through point $y(3) = 1$\n",
        "\n",
        "A parabola intersecting the $x$-axis at points $x = 2$ and $x = 4$ can be written as:\n",
        "$$ y = a(x - 2)(x - 4) $$\n",
        "\n",
        "Given that it passes through the point $(3, 1)$:\n",
        "$$ 1 = a(3 - 2)(3 - 4) $$\n",
        "$$ 1 = a(1)(-1) $$\n",
        "$$ a = -1 $$\n",
        "\n",
        "Thus, the equation of the parabola is:\n",
        "$$ y = -(x - 2)(x - 4) $$\n",
        "$$ y = -(x^2 - 6x + 8) $$\n",
        "$$ y = -x^2 + 6x - 8 $$"
      ],
      "metadata": {
        "id": "odD7CnAXzppB"
      }
    },
    {
      "cell_type": "code",
      "source": [
        "# Problem 2: Equation of a parabola intersecting the Ox axis at points x = 2, x = 4, and passing through point y(3) = 1\n",
        "a = symbols('a')\n",
        "parabola_eq = a * (x - 2) * (x - 4)\n",
        "sol_a = solve(parabola_eq.subs(x, 3) - 1, a)[0]\n",
        "parabola_eq = parabola_eq.subs(a, sol_a)\n",
        "parabola_eq"
      ],
      "metadata": {
        "colab": {
          "base_uri": "https://localhost:8080/",
          "height": 211
        },
        "id": "pqOYZOBZzrnc",
        "outputId": "299da247-1e66-4344-b004-552b8b36bcf7"
      },
      "execution_count": 1,
      "outputs": [
        {
          "output_type": "error",
          "ename": "NameError",
          "evalue": "name 'symbols' is not defined",
          "traceback": [
            "\u001b[0;31m---------------------------------------------------------------------------\u001b[0m",
            "\u001b[0;31mNameError\u001b[0m                                 Traceback (most recent call last)",
            "\u001b[0;32m<ipython-input-1-70cff28aa464>\u001b[0m in \u001b[0;36m<cell line: 2>\u001b[0;34m()\u001b[0m\n\u001b[1;32m      1\u001b[0m \u001b[0;31m# Problem 2: Equation of a parabola intersecting the Ox axis at points x = 2, x = 4, and passing through point y(3) = 1\u001b[0m\u001b[0;34m\u001b[0m\u001b[0;34m\u001b[0m\u001b[0m\n\u001b[0;32m----> 2\u001b[0;31m \u001b[0ma\u001b[0m \u001b[0;34m=\u001b[0m \u001b[0msymbols\u001b[0m\u001b[0;34m(\u001b[0m\u001b[0;34m'a'\u001b[0m\u001b[0;34m)\u001b[0m\u001b[0;34m\u001b[0m\u001b[0;34m\u001b[0m\u001b[0m\n\u001b[0m\u001b[1;32m      3\u001b[0m \u001b[0mparabola_eq\u001b[0m \u001b[0;34m=\u001b[0m \u001b[0ma\u001b[0m \u001b[0;34m*\u001b[0m \u001b[0;34m(\u001b[0m\u001b[0mx\u001b[0m \u001b[0;34m-\u001b[0m \u001b[0;36m2\u001b[0m\u001b[0;34m)\u001b[0m \u001b[0;34m*\u001b[0m \u001b[0;34m(\u001b[0m\u001b[0mx\u001b[0m \u001b[0;34m-\u001b[0m \u001b[0;36m4\u001b[0m\u001b[0;34m)\u001b[0m\u001b[0;34m\u001b[0m\u001b[0;34m\u001b[0m\u001b[0m\n\u001b[1;32m      4\u001b[0m \u001b[0msol_a\u001b[0m \u001b[0;34m=\u001b[0m \u001b[0msolve\u001b[0m\u001b[0;34m(\u001b[0m\u001b[0mparabola_eq\u001b[0m\u001b[0;34m.\u001b[0m\u001b[0msubs\u001b[0m\u001b[0;34m(\u001b[0m\u001b[0mx\u001b[0m\u001b[0;34m,\u001b[0m \u001b[0;36m3\u001b[0m\u001b[0;34m)\u001b[0m \u001b[0;34m-\u001b[0m \u001b[0;36m1\u001b[0m\u001b[0;34m,\u001b[0m \u001b[0ma\u001b[0m\u001b[0;34m)\u001b[0m\u001b[0;34m[\u001b[0m\u001b[0;36m0\u001b[0m\u001b[0;34m]\u001b[0m\u001b[0;34m\u001b[0m\u001b[0;34m\u001b[0m\u001b[0m\n\u001b[1;32m      5\u001b[0m \u001b[0mparabola_eq\u001b[0m \u001b[0;34m=\u001b[0m \u001b[0mparabola_eq\u001b[0m\u001b[0;34m.\u001b[0m\u001b[0msubs\u001b[0m\u001b[0;34m(\u001b[0m\u001b[0ma\u001b[0m\u001b[0;34m,\u001b[0m \u001b[0msol_a\u001b[0m\u001b[0;34m)\u001b[0m\u001b[0;34m\u001b[0m\u001b[0;34m\u001b[0m\u001b[0m\n",
            "\u001b[0;31mNameError\u001b[0m: name 'symbols' is not defined"
          ]
        }
      ]
    },
    {
      "cell_type": "markdown",
      "source": [
        "## 3. Center of the ellipse with the equation $x^2 + 4y^2 - 4x - 16y + 16 = 0$\n",
        "\n",
        "We start by rewriting the equation in standard form by completing the square:\n",
        "$$ x^2 - 4x + 4 + 4(y^2 - 4y + 4) = 16 $$\n",
        "$$ (x - 2)^2 + 4(y - 2)^2 = 16 $$\n",
        "$$ \\frac{(x - 2)^2}{16} + \\frac{(y - 2)^2}{4} = 1 $$\n",
        "\n",
        "The center of the ellipse is:\n",
        "$$ (h, k) = (2, 2) $$\n"
      ],
      "metadata": {
        "id": "hE9BMzKtzsHO"
      }
    },
    {
      "cell_type": "code",
      "source": [
        "# Problem 3: Center of the ellipse with the equation x^2 + 4y^2 - 4x - 16y + 16 = 0\n",
        "ellipse_eq = x**2 + 4*y**2 - 4*x - 16*y + 16\n",
        "center_x = solve(ellipse_eq.subs(y, 0), x)\n",
        "center_y = solve(ellipse_eq.subs(x, 0), y)\n",
        "center_ellipse = (center_x, center_y)\n",
        "center_ellipse"
      ],
      "metadata": {
        "id": "1y7vdG2JzwAq"
      },
      "execution_count": null,
      "outputs": []
    },
    {
      "cell_type": "markdown",
      "source": [
        "## 4. Slope $(m > 0)$ of the line $y = mx - 5$ that is tangent to the circle with the equation $x^2 + y^2 = 1$\n",
        "\n",
        "For the line to be tangent to the circle $x^2 + y^2 = 1$, the distance from the center of the circle $(0,0)$ to the line $y = mx - 5$ must be equal to the radius $r = 1$.\n",
        "\n",
        "The distance from the point $(0,0)$ to the line $y = mx - 5$ is given by:\n",
        "$$ \\frac{|mx - y - 5|}{\\sqrt{m^2 + 1}} $$\n",
        "\n",
        "Setting this distance equal to the radius of the circle:\n",
        "$$ \\frac{|5|}{\\sqrt{m^2 + 1}} = 1 $$\n",
        "$$ |5| = \\sqrt{m^2 + 1} $$\n",
        "$$ 25 = m^2 + 1 $$\n",
        "$$ m^2 = 24 $$\n",
        "$$ m = \\sqrt{24} $$\n",
        "$$ m = 2\\sqrt{6} $$"
      ],
      "metadata": {
        "id": "kh66d6xxzwYR"
      }
    },
    {
      "cell_type": "code",
      "source": [
        "# Problem 4: Slope (m > 0) of the line y = mx - 5 that is tangent to the circle with the equation x^2 + y^2 = 1\n",
        "m = symbols('m', positive=True)\n",
        "line_eq = y - m*x + 5\n",
        "distance_eq = abs(5) / sqrt(m**2 + 1) - 1\n",
        "sol_m = solve(distance_eq, m)\n",
        "sol_m"
      ],
      "metadata": {
        "id": "IdXZfrT5zxC_"
      },
      "execution_count": null,
      "outputs": []
    },
    {
      "cell_type": "markdown",
      "source": [
        "## 5. Intersection points of the hyperbola $x^2 - y^2 = 1$ with the ellipse's line $x^2 + 4y^2 = 6$\n",
        "\n",
        "We solve the system of equations:\n",
        "$$ x^2 - y^2 = 1 $$\n",
        "$$ x^2 + 4y^2 = 6 $$\n",
        "\n",
        "Subtract the first equation from the second:\n",
        "$$ (x^2 + 4y^2) - (x^2 - y^2) = 6 - 1 $$\n",
        "$$ 5y^2 = 5 $$\n",
        "$$ y^2 = 1 $$\n",
        "$$ y = \\pm 1 $$\n",
        "\n",
        "Substitute $y = 1$ and $y = -1$ into $x^2 - y^2 = 1$:\n",
        "For $y = 1$:\n",
        "$$ x^2 - 1 = 1 $$\n",
        "$$ x^2 = 2 $$\n",
        "$$ x = \\pm \\sqrt{2} $$\n",
        "\n",
        "For $y = -1$:\n",
        "$$ x^2 - 1 = 1 $$\n",
        "$$ x^2 = 2 $$\n",
        "$$ x = \\pm \\sqrt{2} $$\n",
        "\n",
        "The intersection points are:\n",
        "$$ (\\sqrt{2}, 1), (-\\sqrt{2}, 1), (\\sqrt{2}, -1), (-\\sqrt{2}, -1) $$"
      ],
      "metadata": {
        "id": "UcOKIWThzxR1"
      }
    },
    {
      "cell_type": "code",
      "source": [
        "# Problem 5: Intersection points of the hyperbola x^2 - y^2 = 1 with the ellipse's line x^2 + 4y^2 = 6\n",
        "hyperbola_eq = x**2 - y**2 - 1\n",
        "ellipse_line_eq = x**2 + 4*y**2 - 6\n",
        "inter_points = solve((hyperbola_eq, ellipse_line_eq), (x, y))\n",
        "inter_points"
      ],
      "metadata": {
        "id": "cEhZWuesz0V1"
      },
      "execution_count": null,
      "outputs": []
    },
    {
      "cell_type": "markdown",
      "source": [
        "## 6. Distance between branches of the hyperbola $x^2 - y^2 = 1$\n",
        "\n",
        "For a hyperbola of the form $\\frac{x^2}{a^2} - \\frac{y^2}{b^2} = 1$, the distance between the two branches is $2a$.\n",
        "\n",
        "Given $x^2 - y^2 = 1$, we have $a^2 = 1$. Thus, $a = 1$.\n",
        "\n",
        "The distance between the branches is:\n",
        "$$ 2a = 2 $$"
      ],
      "metadata": {
        "id": "O6YCfAm2z0ns"
      }
    },
    {
      "cell_type": "code",
      "source": [
        "# Problem 6: Distance between branches of the hyperbola x^2 - y^2 = 1\n",
        "distance_between_branches = 2 * sqrt(1)\n",
        "distance_between_branches"
      ],
      "metadata": {
        "id": "WUH2l_jiz2og"
      },
      "execution_count": null,
      "outputs": []
    }
  ]
}
