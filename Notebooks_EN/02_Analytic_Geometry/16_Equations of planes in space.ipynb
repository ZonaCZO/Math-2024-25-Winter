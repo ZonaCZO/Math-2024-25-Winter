{
  "nbformat": 4,
  "nbformat_minor": 0,
  "metadata": {
    "colab": {
      "provenance": [],
      "authorship_tag": "ABX9TyMBd+aI1jSKspJT3Y/1akdB",
      "include_colab_link": true
    },
    "kernelspec": {
      "name": "python3",
      "display_name": "Python 3"
    },
    "language_info": {
      "name": "python"
    }
  },
  "cells": [
    {
      "cell_type": "markdown",
      "metadata": {
        "id": "view-in-github",
        "colab_type": "text"
      },
      "source": [
        "<a href=\"https://colab.research.google.com/github/ZonaCZO/Math-2024-25-Winter/blob/main/Section_16.ipynb\" target=\"_parent\"><img src=\"https://colab.research.google.com/assets/colab-badge.svg\" alt=\"Open In Colab\"/></a>"
      ]
    },
    {
      "cell_type": "markdown",
      "source": [
        "## 1. The plane passes through points $A(1,2,3)$, $B(3,4,5)$, and $C(2,1,4)$. Find the equation of the plane.\n",
        "\n",
        "To find the equation of the plane passing through points $A(1,2,3)$, $B(3,4,5)$, and $C(2,1,4)$, we use the determinant method.\n",
        "\n",
        "### Step-by-Step Solution:\n",
        "\n",
        "The equation of the plane can be written as:\n",
        "$$ a(x - x_1) + b(y - y_1) + c(z - z_1) = 0 $$\n",
        "Substituting $A(1,2,3)$ into the equation, we get:\n",
        "$$ a(x - 1) + b(y - 2) + c(z - 3) = 0 $$\n",
        "\n",
        "We need to find the values of $a$, $b$, and $c$. We use the cross product of vectors $\\overrightarrow{AB}$ and $\\overrightarrow{AC}$:\n",
        "$$ \\overrightarrow{AB} = (3-1, 4-2, 5-3) = (2, 2, 2) $$\n",
        "$$ \\overrightarrow{AC} = (2-1, 1-2, 4-3) = (1, -1, 1) $$\n",
        "\n",
        "The normal vector $\\overrightarrow{n}$ of the plane is $\\overrightarrow{AB} \\times \\overrightarrow{AC}$:\n",
        "$$ \\overrightarrow{n} = \\begin{vmatrix} \\mathbf{i} & \\mathbf{j} & \\mathbf{k} \\\\ 2 & 2 & 2 \\\\ 1 & -1 & 1 \\end{vmatrix} = (4 - (-2))\\mathbf{i} - (2 - 2)\\mathbf{j} + (2 - (-2))\\mathbf{k} $$\n",
        "$$ \\overrightarrow{n} = (6, 0, 4) $$\n",
        "\n",
        "Thus, $a = 6$, $b = 0$, $c = 4$. The equation of the plane is:\n",
        "$$ 6(x - 1) + 0(y - 2) + 4(z - 3) = 0 $$\n",
        "$$ 6x + 4z = 18 $$\n",
        "$$ 3x + 2z = 9 $$\n",
        "\n",
        "The final equation of the plane is:\n",
        "$$ 3x + 2z = 9 $$\n",
        "\n"
      ],
      "metadata": {
        "id": "7qW2uV7r_HaY"
      }
    },
    {
      "cell_type": "code",
      "execution_count": null,
      "metadata": {
        "id": "v0rx58q2_E1C"
      },
      "outputs": [],
      "source": [
        "from sympy import symbols, Eq, solve, Matrix, diff, sqrt\n",
        "\n",
        "# Define symbols\n",
        "x, y, z, t = symbols('x y z t')\n",
        "\n",
        "# 1. Equation of the plane passing through points A(1,2,3), B(3,4,5), and C(2,1,4)\n",
        "A = Matrix([1, 2, 3])\n",
        "B = Matrix([3, 4, 5])\n",
        "C = Matrix([2, 1, 4])\n",
        "AB = B - A\n",
        "AC = C - A\n",
        "normal_vector = AB.cross(AC)\n",
        "plane_eq_1 = Eq(normal_vector[0] * (x - A[0]) + normal_vector[1] * (y - A[1]) + normal_vector[2] * (z - A[2]), 0)\n",
        "plane_eq_1 = plane_eq_1.simplify()\n",
        "\n",
        "print(f\"Equation of the plane through A, B, and C: {plane_eq_1}\")\n",
        "\n"
      ]
    },
    {
      "cell_type": "markdown",
      "source": [
        "## 2. The plane passes through point $A(1,2,3)$ and is parallel to the plane $2x + 3y + 4z = 5$. Find the equation of the plane.\n",
        "\n",
        "The plane is parallel to $2x + 3y + 4z = 5$ and passes through $A(1,2,3)$. Hence, it has the same normal vector $\\overrightarrow{n} = [2,3,4]$.\n",
        "\n",
        "### Step-by-Step Solution:\n",
        "\n",
        "Using the plane equation:\n",
        "$$ 2(x - 1) + 3(y - 2) + 4(z - 3) = 0 $$\n",
        "$$ 2x + 3y + 4z - 26 = 0 $$\n",
        "\n",
        "The final equation of the plane is:\n",
        "$$ 2x + 3y + 4z = 26 $$\n",
        "\n"
      ],
      "metadata": {
        "id": "0XXb-FXyAadU"
      }
    },
    {
      "cell_type": "code",
      "source": [
        "# 2. Equation of the plane through A(1,2,3) parallel to 2x + 3y + 4z = 5\n",
        "point_A = Matrix([1, 2, 3])\n",
        "normal_vector_parallel = Matrix([2, 3, 4])\n",
        "d = -(normal_vector_parallel.dot(point_A))\n",
        "plane_eq_2 = Eq(2*x + 3*y + 4*z + d, 0)\n",
        "\n",
        "print(f\"Equation of the plane through A and parallel to given plane: {plane_eq_2}\")\n",
        "\n"
      ],
      "metadata": {
        "id": "wsH-oN59AaHB"
      },
      "execution_count": null,
      "outputs": []
    },
    {
      "cell_type": "markdown",
      "source": [
        "## 3. The plane passes through point $A(2,3,4)$ and is perpendicular to the normal vector $\\overrightarrow{n} = (1, -2, 3)$. Find the equation of the plane.\n",
        "\n",
        "The plane is normal to vector $\\overrightarrow{n} = (1, -2, 3)$ and passes through $A(2,3,4)$. Therefore, the plane equation is:\n",
        "$$ 1(x - 2) - 2(y - 3) + 3(z - 4) = 0 $$\n",
        "$$ x - 2y + 3z - 16 = 0 $$\n",
        "\n",
        "The final equation of the plane is:\n",
        "$$ x - 2y + 3z = 16 $$\n",
        "\n"
      ],
      "metadata": {
        "id": "4E051qnrAdSs"
      }
    },
    {
      "cell_type": "code",
      "source": [
        "# 3. Equation of the plane through A(2,3,4) perpendicular to (1, -2, 3)\n",
        "normal_vector_perpendicular = Matrix([1, -2, 3])\n",
        "point_A3 = Matrix([2, 3, 4])\n",
        "d3 = -(normal_vector_perpendicular.dot(point_A3))\n",
        "plane_eq_3 = Eq(normal_vector_perpendicular[0]*x + normal_vector_perpendicular[1]*y + normal_vector_perpendicular[2]*z + d3, 0)\n",
        "\n",
        "print(f\"Equation of the plane through A and perpendicular to given normal vector: {plane_eq_3}\")\n",
        "\n"
      ],
      "metadata": {
        "id": "rVC0IVnKAc8f"
      },
      "execution_count": null,
      "outputs": []
    },
    {
      "cell_type": "markdown",
      "source": [
        "## 4. We have two planes $2x + 3y + 4z = 5$ and $3x + 4y + 2z = 6$. Find the line of intersection of these planes.\n",
        "\n",
        "To find the line of intersection, we solve the system of plane equations:\n",
        "\n",
        "$$ 2x + 3y + 4z = 5 $$\n",
        "$$ 3x + 4y + 2z = 6 $$\n",
        "\n",
        "We can solve these equations using parametric form. Let $z = t$:\n",
        "\n",
        "### Step-by-Step Solution:\n",
        "\n",
        "From the first equation:\n",
        "$$ 2x + 3y + 4t = 5 $$\n",
        "\n",
        "From the second equation:\n",
        "$$ 3x + 4y + 2t = 6 $$\n",
        "\n",
        "Adding these equations gives:\n",
        "$$ 6 - \\frac{10}{3}t - y + t = 3 $$\n",
        "$$ -y + \\frac{-7}{3}t = -3 $$\n",
        "$$ y = 3 - \\frac{7}{3}t $$\n",
        "\n",
        "The parametric equations for the line of intersection are:\n",
        "$$ x = 3 - \\frac{5}{3}t $$\n",
        "$$ y = 3 - \\frac{7}{3}t $$\n",
        "$$ z = t $$\n",
        "\n"
      ],
      "metadata": {
        "id": "EimX4ArPAgF8"
      }
    },
    {
      "cell_type": "code",
      "source": [
        "# 4. Line of intersection of the planes 2x + 3y + 4z = 5 and 3x + 4y + 2z = 6\n",
        "plane1 = Eq(2*x + 3*y + 4*z, 5)\n",
        "plane2 = Eq(3*x + 4*y + 2*z, 6)\n",
        "sol = solve((plane1, plane2, z - t), (x, y, z))\n",
        "line_intersection = (sol[x], sol[y], sol[z])\n",
        "\n",
        "print(f\"Line of intersection: x = {line_intersection[0]}, y = {line_intersection[1]}, z = {line_intersection[2]}\")\n",
        "\n"
      ],
      "metadata": {
        "id": "dVo1O42TAfw-"
      },
      "execution_count": null,
      "outputs": []
    },
    {
      "cell_type": "markdown",
      "source": [
        "## 5. Write the equation of the plane passing through point $A(1,2,3)$ and parallel to vectors $\\overrightarrow{v_1} = [1,0,1]$ and $\\overrightarrow{v_2} = [0,1,-1]$.\n",
        "\n",
        "The normal vector to the plane can be found as the cross product of the given vectors:\n",
        "\n",
        "### Step-by-Step Solution:\n",
        "\n",
        "The vectors are:\n",
        "$$ \\overrightarrow{v_1} = (1, 0, 1) $$\n",
        "$$ \\overrightarrow{v_2} = (0, 1, -1) $$\n",
        "\n",
        "The normal vector $\\overrightarrow{n}$ is:\n",
        "$$ \\overrightarrow{n} = \\begin{vmatrix} \\mathbf{i} & \\mathbf{j} & \\mathbf{k} \\\\ 1 & 0 & 1 \\\\ 0 & 1 & -1 \\end{vmatrix} = (-1)\\mathbf{i} - (1)\\mathbf{j} + (1)\\mathbf{k} = (-1, -1, 1) $$\n",
        "\n",
        "The equation of the plane is:\n",
        "$$ -1(x - 1) - 1(y - 2) + 1(z - 3) = 0 $$\n",
        "$$ -x - y + z + 4 = 0 $$\n",
        "\n",
        "The final equation of the plane is:\n",
        "$$ x + y - z = -4 $$\n",
        "\n"
      ],
      "metadata": {
        "id": "Wv9zCEsIAiwc"
      }
    },
    {
      "cell_type": "code",
      "source": [
        "# 5. Plane through point A(1,2,3) and parallel to vectors (1,0,1) and (0,1,-1)\n",
        "point_A5 = Matrix([1, 2, 3])\n",
        "v1 = Matrix([1, 0, 1])\n",
        "v2 = Matrix([0, 1, -1])\n",
        "normal_vector_5 = v1.cross(v2)\n",
        "d5 = -(normal_vector_5.dot(point_A5))\n",
        "plane_eq_5 = Eq(normal_vector_5[0]*x + normal_vector_5[1]*y + normal_vector_5[2]*z + d5, 0)\n",
        "\n",
        "print(f\"Equation of the plane through A and parallel to given vectors: {plane_eq_5}\")\n",
        "\n"
      ],
      "metadata": {
        "id": "SHeqKfVxAicO"
      },
      "execution_count": null,
      "outputs": []
    },
    {
      "cell_type": "markdown",
      "source": [
        "## 6. We have the plane $2x + 3y + 4z = 5$. Find an example of a plane parallel and perpendicular to it.\n",
        "\n",
        "### Parallel Plane:\n",
        "A plane parallel to $2x + 3y + 4z = 5$ has the same normal vector:\n",
        "$$ 2x + 3y + 4z = k $$\n",
        "\n",
        "For example:\n",
        "$$ 2x + 3y + 4z = 10 $$\n",
        "\n",
        "### Perpendicular Plane:\n",
        "A plane perpendicular to $2x + 3y + 4z = 5$ would have a normal vector that is orthogonal to $\\overrightarrow{n} = (2, 3, 4)$.\n",
        "\n",
        "For example, using normal vector $(1, -2, 1)$, the plane equation is:\n",
        "$$ 1(x - 1) - 2(y - 1) + 1(z - 1) = 0 $$\n",
        "$$ x - 2y + z = 1 $$\n",
        "\n"
      ],
      "metadata": {
        "id": "tJ777AicAky8"
      }
    },
    {
      "cell_type": "code",
      "source": [
        "# 6. Parallel and perpendicular planes to 2x + 3y + 4z = 5\n",
        "plane_parallel = Eq(2*x + 3*y + 4*z, 10)\n",
        "print(f\"Equation of a plane parallel to given plane: {plane_parallel}\")\n",
        "\n",
        "normal_vector_6_perpendicular = Matrix([1, -2, 1])\n",
        "point_6_perpendicular = Matrix([1, 1, 1])\n",
        "d6_perpendicular = -(normal_vector_6_perpendicular.dot(point_6_perpendicular))\n",
        "plane_perpendicular = Eq(normal_vector_6_perpendicular[0]*x + normal_vector_6_perpendicular[1]*y + normal_vector_6_perpendicular[2]*z + d6_perpendicular, 0)\n",
        "print(f\"Equation of a plane perpendicular to given plane: {plane_perpendicular}\")\n",
        "\n"
      ],
      "metadata": {
        "id": "k3A3rlJdAkiF"
      },
      "execution_count": null,
      "outputs": []
    },
    {
      "cell_type": "markdown",
      "source": [
        "## 7. We have the plane $2x + 3y + 4z = 5$ and point $A(1,2,3)$. Find the distance from point $A$ to this plane.\n",
        "\n",
        "The distance from a point to a plane is given by:\n",
        "$$ D = \\frac{|ax_1 + by_1 + cz_1 + d|}{\\sqrt{a^2 + b^2 + c^2}} $$\n",
        "\n",
        "### Step-by-Step Solution:\n",
        "\n",
        "Substituting $A(1,2,3)$ and the plane $2x + 3y + 4z = 5$:\n",
        "$$ D = \\frac{|2(1) + 3(2) + 4(3) - 5|}{\\sqrt{2^2 + 3^2 + 4^2}} $$\n",
        "$$ D = \\frac{|2 + 6 + 12 - 5|}{\\sqrt{4 + 9 + 16}} $$\n",
        "$$ D = \\frac{15}{\\sqrt{29}} $$\n",
        "\n",
        "The distance from point $A$ to the plane is:\n",
        "$$ D = \\frac{15}{\\sqrt{29}} $$"
      ],
      "metadata": {
        "id": "f1ziiPrfAmwq"
      }
    },
    {
      "cell_type": "code",
      "source": [
        "# 7. Distance from point A(1,2,3) to plane 2x + 3y + 4z = 5\n",
        "point_A7 = Matrix([1, 2, 3])\n",
        "plane_normal_7 = Matrix([2, 3, 4])\n",
        "plane_d7 = -5\n",
        "distance_7 = abs(plane_normal_7.dot(point_A7) + plane_d7) / plane_normal_7.norm()\n",
        "print(f\"Distance from point to plane: {distance_7}\")\n",
        "\n"
      ],
      "metadata": {
        "id": "jep6LhYQAmcN"
      },
      "execution_count": null,
      "outputs": []
    },
    {
      "cell_type": "markdown",
      "source": [
        "## 8. The plane intersects the coordinate axes at points $A(2,0,0)$, $B(0,3,0)$, and $C(0,0,4)$. Find the equation of the plane.\n",
        "\n",
        "The equation of the plane can be written in intercept form as:\n",
        "$$ \\frac{x}{a} + \\frac{y}{b} + \\frac{z}{c} = 1 $$\n",
        "\n",
        "Substituting the intercepts $A(2,0,0)$, $B(0,3,0)$, and $C(0,0,4)$:\n",
        "$$ \\frac{x}{2} + \\frac{y}{3} + \\frac{z}{4} = 1 $$\n",
        "\n",
        "The final equation of the plane is:\n",
        "$$ \\frac{x}{2} + \\frac{y}{3} + \\frac{z}{4} = 1 $$\n",
        "\n",
        "\n"
      ],
      "metadata": {
        "id": "U7xKTuiYCnyE"
      }
    },
    {
      "cell_type": "code",
      "source": [
        "# 8. Equation of the plane intersecting coordinate axes at points A(2,0,0), B(0,3,0), and C(0,0,4)\n",
        "plane_eq_8 = Eq(x/2 + y/3 + z/4, 1)\n",
        "print(f\"Equation of the plane intersecting the axes: {plane_eq_8}\")\n",
        "\n"
      ],
      "metadata": {
        "id": "18Rf1DkPCnes"
      },
      "execution_count": null,
      "outputs": []
    },
    {
      "cell_type": "markdown",
      "source": [
        "## 9. Find the angle between the planes $2x + 3y + 4z = 5$ and $3x + 4y + 5z = 6$.\n",
        "\n",
        "The angle $\\theta$ between two planes can be calculated using the dot product of their normal vectors:\n",
        "\n",
        "### Step-by-Step Solution:\n",
        "\n",
        "The normal vectors of the planes are:\n",
        "$$ \\overrightarrow{n_1} = (2, 3, 4) $$\n",
        "$$ \\overrightarrow{n_2} = (3, 4, 5) $$\n",
        "\n",
        "The dot product $\\overrightarrow{n_1} \\cdot \\overrightarrow{n_2}$:\n",
        "$$ \\overrightarrow{n_1} \\cdot \\overrightarrow{n_2} = 2 \\cdot 3 + 3 \\cdot 4 + 4 \\cdot 5 = 6 + 12 + 20 = 38 $$\n",
        "\n",
        "The magnitudes of the normal vectors:\n",
        "$$ |\\overrightarrow{n_1}| = \\sqrt{2^2 + 3^2 + 4^2} = \\sqrt{4 + 9 + 16} = \\sqrt{29} $$\n",
        "$$ |\\overrightarrow{n_2}| = \\sqrt{3^2 + 4^2 + 5^2} = \\sqrt{9 + 16 + 25} = \\sqrt{50} $$\n",
        "\n",
        "Therefore:\n",
        "$$ \\cos \\theta = \\frac{|\\overrightarrow{n_1} \\cdot \\overrightarrow{n_2}|}{|\\overrightarrow{n_1}| |\\overrightarrow{n_2}|} = \\frac{38}{\\sqrt{29} \\cdot \\sqrt{50}} = \\frac{38}{\\sqrt{1450}} $$\n",
        "\n",
        "The angle $\\theta$:\n",
        "$$ \\theta = \\arccos \\left( \\frac{38}{\\sqrt{1450}} \\right) $$\n",
        "\n"
      ],
      "metadata": {
        "id": "SoPVQVYXCqQj"
      }
    },
    {
      "cell_type": "code",
      "source": [
        "# 9. Angle between planes 2x + 3y + 4z = 5 and 3x + 4y + 5z = 6\n",
        "n1 = Matrix([2, 3, 4])\n",
        "n2 = Matrix([3, 4, 5])\n",
        "cos_theta = n1.dot(n2) / (n1.norm() * n2.norm())\n",
        "theta = cos_theta.evalf()\n",
        "print(f\"Angle between the planes: {theta}\")\n",
        "\n"
      ],
      "metadata": {
        "id": "3V6-6iukCp9D"
      },
      "execution_count": null,
      "outputs": []
    },
    {
      "cell_type": "markdown",
      "source": [
        "## 10. Find the distance between the parallel planes $2x + 3y + 4z = 5$ and $2x + 3y + 4z = 6$.\n",
        "\n",
        "The distance between two parallel planes $ax + by + cz + d_1 = 0$ and $ax + by + cz + d_2 = 0$ is given by:\n",
        "$$ D = \\frac{|d_2 - d_1|}{\\sqrt{a^2 + b^2 + c^2}} $$\n",
        "\n",
        "### Step-by-Step Solution:\n",
        "\n",
        "Substituting the given planes $2x + 3y + 4z = 5$ and $2x + 3y + 4z = 6$:\n",
        "$$ D = \\frac{|6 - 5|}{\\sqrt{2^2 + 3^2 + 4^2}} $$\n",
        "$$ D = \\frac{1}{\\sqrt{4 + 9 + 16}} $$\n",
        "$$ D = \\frac{1}{\\sqrt{29}} $$\n",
        "\n",
        "The distance between the parallel planes is:\n",
        "$$ D = \\frac{1}{\\sqrt{29}} $$"
      ],
      "metadata": {
        "id": "tPkzbF6GCsBl"
      }
    },
    {
      "cell_type": "code",
      "source": [
        "# 10. Distance between parallel planes 2x + 3y + 4z = 5 and 2x + 3y + 4z = 6\n",
        "d1 = 5\n",
        "d2 = 6\n",
        "distance_10 = abs(d2 - d1) / sqrt(2**2 + 3**2 + 4**2)\n",
        "print(f\"Distance between parallel planes: {distance_10}\")"
      ],
      "metadata": {
        "id": "_T6MhyckCrsN"
      },
      "execution_count": null,
      "outputs": []
    }
  ]
}
