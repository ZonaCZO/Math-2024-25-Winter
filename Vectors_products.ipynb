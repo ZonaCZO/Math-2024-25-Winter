{
  "nbformat": 4,
  "nbformat_minor": 0,
  "metadata": {
    "colab": {
      "provenance": []
    },
    "kernelspec": {
      "name": "python3",
      "display_name": "Python 3"
    },
    "language_info": {
      "name": "python"
    }
  },
  "cells": [
    {
      "cell_type": "markdown",
      "source": [
        "#### Task A\n",
        "\n",
        "1. **Operation**: Add vector $ \\mathbf{A} = [2, 1] $ to vector $ \\mathbf{B} = [-1, 1] $.\n",
        "   \n",
        "   **Solution**:\n",
        "   The addition of two vectors is done component-wise:\n",
        "   $$\n",
        "   \\mathbf{A} + \\mathbf{B} = \\begin{bmatrix} 2 \\\\ 1 \\end{bmatrix} + \\begin{bmatrix} -1 \\\\ 1 \\end{bmatrix} = \\begin{bmatrix} 2 + (-1) \\\\ 1 + 1 \\end{bmatrix} = \\begin{bmatrix} 1 \\\\ 2 \\end{bmatrix}\n",
        "   $$\n",
        "\n",
        "2. **Result**:\n",
        "   $$\n",
        "   \\mathbf{A} + \\mathbf{B} = \\begin{bmatrix} 1 \\\\ 2 \\end{bmatrix}\n",
        "   $$\n"
      ],
      "metadata": {
        "id": "Sa5bpstzZaVf"
      }
    },
    {
      "cell_type": "code",
      "source": [
        "import sympy as sp\n",
        "\n",
        "# Define vectors A and B\n",
        "A = sp.Matrix([2, 1])\n",
        "B = sp.Matrix([-1, 1])\n",
        "\n",
        "# Addition of vectors\n",
        "A_plus_B = A + B\n",
        "A_plus_B\n"
      ],
      "metadata": {
        "id": "FJL2zU1oalCX"
      },
      "execution_count": null,
      "outputs": []
    },
    {
      "cell_type": "markdown",
      "source": [
        "#### Task B\n",
        "\n",
        "1. **Operation**: Calculate the area of the triangle formed by vectors $ \\mathbf{A} = [2, 1] $ and $ \\mathbf{B} = [-1, 1] $.\n",
        "\n",
        "   **Solution**:\n",
        "   The area of the triangle formed by two vectors in two-dimensional space is given by half the magnitude of their cross product (determinant in 2D):\n",
        "   $$\n",
        "   \\text{Area} = \\frac{1}{2} \\left| \\mathbf{A} \\times \\mathbf{B} \\right|\n",
        "   $$\n",
        "   The 2D cross product (or determinant) of two vectors $ \\mathbf{A} = [a_1, a_2] $ and $ \\mathbf{B} = [b_1, b_2] $ is:\n",
        "   $$\n",
        "   \\mathbf{A} \\times \\mathbf{B} = a_1 b_2 - a_2 b_1\n",
        "   $$\n",
        "\n",
        "   Substituting the values:\n",
        "   $$\n",
        "   \\mathbf{A} \\times \\mathbf{B} = (2)(1) - (1)(-1) = 2 + 1 = 3\n",
        "   $$\n",
        "\n",
        "   Now, calculate the area:\n",
        "   $$\n",
        "   \\text{Area} = \\frac{1}{2} \\times |3| = \\frac{3}{2}\n",
        "   $$\n",
        "\n",
        "2. **Result**:\n",
        "   The area of the triangle is $ \\frac{3}{2} $ square units.\n"
      ],
      "metadata": {
        "id": "58jpf3ivZfGd"
      }
    },
    {
      "cell_type": "code",
      "source": [
        "# Calculate the area of the triangle formed by vectors A and B\n",
        "area_triangle = (A[0]*B[1] - A[1]*B[0]) / 2\n",
        "area_triangle\n"
      ],
      "metadata": {
        "id": "nNN-n00XaniM"
      },
      "execution_count": null,
      "outputs": []
    },
    {
      "cell_type": "markdown",
      "source": [
        "#### Task C\n",
        "\n",
        "1. **Operation**: Calculate the volume of the parallelepiped formed by vectors $ \\mathbf{A} = [2, 1, 0] $, $ \\mathbf{B} = [-1, 1, 0] $, and $ \\mathbf{C} = [1, 2, 0] $.\n",
        "\n",
        "   **Solution**:\n",
        "   The volume of the parallelepiped formed by three vectors is the absolute value of their scalar triple product:\n",
        "   $$\n",
        "   \\text{Volume} = \\left| \\mathbf{A} \\cdot \\left( \\mathbf{B} \\times \\mathbf{C} \\right) \\right|\n",
        "   $$\n",
        "\n",
        "   Step 1: Calculate the cross product $ \\mathbf{B} \\times \\mathbf{C} $.\n",
        "   Using the formula for the cross product of vectors $ \\mathbf{B} = [b_x, b_y, b_z] $ and $ \\mathbf{C} = [c_x, c_y, c_z] $:\n",
        "   $$\n",
        "   \\mathbf{B} \\times \\mathbf{C} = \\begin{vmatrix} \\hat{i} & \\hat{j} & \\hat{k} \\\\ b_x & b_y & b_z \\\\ c_x & c_y & c_z \\end{vmatrix}\n",
        "   $$\n",
        "   For $ \\mathbf{B} = [-1, 1, 0] $ and $ \\mathbf{C} = [1, 2, 0] $:\n",
        "   $$\n",
        "   \\mathbf{B} \\times \\mathbf{C} = \\begin{vmatrix} \\hat{i} & \\hat{j} & \\hat{k} \\\\ -1 & 1 & 0 \\\\ 1 & 2 & 0 \\end{vmatrix}\n",
        "   = \\hat{k} \\begin{vmatrix} -1 & 1 \\\\ 1 & 2 \\end{vmatrix}\n",
        "   = \\hat{k}((-1)(2) - (1)(1)) = \\hat{k}(-2 - 1) = -3 \\hat{k}\n",
        "   $$\n",
        "   So, $ \\mathbf{B} \\times \\mathbf{C} = [0, 0, -3] $.\n",
        "\n",
        "   Step 2: Calculate the scalar triple product.\n",
        "   $$\n",
        "   \\mathbf{A} \\cdot (\\mathbf{B} \\times \\mathbf{C}) = \\begin{bmatrix} 2 \\\\ 1 \\\\ 0 \\end{bmatrix} \\cdot \\begin{bmatrix} 0 \\\\ 0 \\\\ -3 \\end{bmatrix} = 2(0) + 1(0) + 0(-3) = 0\n",
        "   $$\n",
        "\n",
        "   Step 3: Find the volume.\n",
        "   $$\n",
        "   \\text{Volume} = \\left| 0 \\right| = 0\n",
        "   $$\n",
        "\n",
        "2. **Result**:\n",
        "   The volume of the parallelepiped is $ 0 $ cubic units. This implies that the vectors are coplanar.\n",
        "\n",
        "---"
      ],
      "metadata": {
        "id": "dDNw5wWnaCM4"
      }
    },
    {
      "cell_type": "code",
      "source": [
        "# Define the third vector in 3D\n",
        "A_3D = sp.Matrix([2, 1, 0])\n",
        "B_3D = sp.Matrix([-1, 1, 0])\n",
        "C_3D = sp.Matrix([1, 2, 0])\n",
        "\n",
        "# Calculate the volume of the parallelepiped\n",
        "volume_parallelepiped = abs(A_3D.dot(B_3D.cross(C_3D)))\n",
        "volume_parallelepiped\n"
      ],
      "metadata": {
        "id": "rMeBEIiaavMW"
      },
      "execution_count": null,
      "outputs": []
    },
    {
      "cell_type": "markdown",
      "source": [
        "#### Task D\n",
        "\n",
        "1. **Operation**: Check if vectors $ \\mathbf{A} = [2, 1] $ and $ \\mathbf{B} = [-1, 1] $ are perpendicular.\n",
        "\n",
        "   **Solution**:\n",
        "   Two vectors are perpendicular if their dot product is zero:\n",
        "   $$\n",
        "   \\mathbf{A} \\cdot \\mathbf{B} = (2)(-1) + (1)(1) = -2 + 1 = -1\n",
        "   $$\n",
        "\n",
        "2. **Result**:\n",
        "   Since $ \\mathbf{A} \\cdot \\mathbf{B} = -1 \\neq 0 $, the vectors are **not** perpendicular.\n"
      ],
      "metadata": {
        "id": "7Qg6f2TTaGuY"
      }
    },
    {
      "cell_type": "code",
      "source": [
        "# Check if vectors A and B are perpendicular\n",
        "dot_product_AB = A.dot(B)\n",
        "is_perpendicular = dot_product_AB == 0\n",
        "dot_product_AB, is_perpendicular\n"
      ],
      "metadata": {
        "id": "0AQXn4NPaycO"
      },
      "execution_count": null,
      "outputs": []
    },
    {
      "cell_type": "markdown",
      "source": [
        "#### Task E\n",
        "\n",
        "1. **Operation**: Calculate the angle in degrees between vectors $ \\mathbf{D} = [4, 2, 1] $ and $ \\mathbf{E} = [1, 3, 2] $.\n",
        "\n",
        "   **Solution**:\n",
        "   The angle $ \\theta $ between two vectors can be found using the dot product formula:\n",
        "   $$\n",
        "   \\cos \\theta = \\frac{\\mathbf{D} \\cdot \\mathbf{E}}{\\left| \\mathbf{D} \\right| \\left| \\mathbf{E} \\right|}\n",
        "   $$\n",
        "\n",
        "   Step 1: Calculate the dot product $ \\mathbf{D} \\cdot \\mathbf{E} $:\n",
        "   $$\n",
        "   \\mathbf{D} \\cdot \\mathbf{E} = (4)(1) + (2)(3) + (1)(2) = 4 + 6 + 2 = 12\n",
        "   $$\n",
        "\n",
        "   Step 2: Calculate the magnitudes of $ \\mathbf{D} $ and $ \\mathbf{E} $:\n",
        "   $$\n",
        "   \\left| \\mathbf{D} \\right| = \\sqrt{(4)^2 + (2)^2 + (1)^2} = \\sqrt{16 + 4 + 1} = \\sqrt{21}\n",
        "   $$\n",
        "   $$\n",
        "   \\left| \\mathbf{E} \\right| = \\sqrt{(1)^2 + (3)^2 + (2)^2} = \\sqrt{1 + 9 + 4} = \\sqrt{14}\n",
        "   $$\n",
        "\n",
        "   Step 3: Calculate $ \\cos \\theta $:\n",
        "   $$\n",
        "   \\cos \\theta = \\frac{12}{\\sqrt{21} \\times \\sqrt{14}} = \\frac{12}{\\sqrt{294}} \\approx \\frac{12}{17.15} \\approx 0.7006\n",
        "   $$\n",
        "\n",
        "   Step 4: Find $ \\theta $ by taking the inverse cosine:\n",
        "   $$\n",
        "   \\theta = \\cos^{-1}(0.7006) \\approx 45.57^\\circ\n",
        "   $$\n",
        "\n",
        "2. **Result**:\n",
        "   The angle between vectors $ \\mathbf{D} $ and $ \\mathbf{E} $ is approximately $ 45.57^\\circ $.\n"
      ],
      "metadata": {
        "id": "DoBni46kaQQL"
      }
    },
    {
      "cell_type": "code",
      "source": [
        "# Define vectors D and E\n",
        "D = sp.Matrix([4, 2, 1])\n",
        "E = sp.Matrix([1, 3, 2])\n",
        "\n",
        "# Calculate the angle between D and E\n",
        "cos_theta = D.dot(E) / (D.norm() * E.norm())\n",
        "theta = sp.acos(cos_theta).evalf()  # Angle in radians\n",
        "theta_degrees = sp.deg(theta)       # Convert to degrees\n",
        "theta_degrees\n"
      ],
      "metadata": {
        "id": "cwMu-h-ma2Tm"
      },
      "execution_count": null,
      "outputs": []
    },
    {
      "cell_type": "markdown",
      "source": [
        "#### Task F\n",
        "\n",
        "1. **Operation**: Prove the vector identity for three-dimensional vectors.\n",
        "\n",
        "2. **Vectors**: Let $ \\mathbf{a} = [a_x, a_y, a_z] $, $ \\mathbf{b} = [b_x, b_y, b_z] $, and $ \\mathbf{c} = [c_x, c_y, c_z] $.\n",
        "\n",
        "3. **Identity**: Show that the following identity is satisfied:\n",
        "   $$\n",
        "   \\mathbf{a} \\times \\left( \\mathbf{b} \\times \\mathbf{c} \\right) = \\left( \\mathbf{a} \\cdot \\mathbf{c} \\right) \\mathbf{b} - \\left( \\mathbf{a} \\cdot \\mathbf{b} \\right) \\mathbf{c}\n",
        "   $$\n",
        "\n",
        "   **Solution**:\n",
        "   The left-hand side involves the cross product $ \\mathbf{b} \\times \\mathbf{c} $ first, and then the cross product with $ \\mathbf{a} $. We can expand the identity step by step using the distributive property and properties of the scalar triple product. The result will be shown to hold for any vectors $ \\mathbf{a}, \\mathbf{b}, \\mathbf{c} $.\n",
        "   \n",
        "2. **Result**:\n",
        "   The identity is true by the properties of the cross and dot products."
      ],
      "metadata": {
        "id": "4aMMFNJwacPT"
      }
    },
    {
      "cell_type": "code",
      "source": [
        "# Define symbolic variables for vector components\n",
        "ax, ay, az, bx, by, bz, cx, cy, cz = sp.symbols('ax ay az bx by bz cx cy cz')\n",
        "\n",
        "# Define vectors a, b, and c\n",
        "a_vec = sp.Matrix([ax, ay, az])\n",
        "b_vec = sp.Matrix([bx, by, bz])\n",
        "c_vec = sp.Matrix([cx, cy, cz])\n",
        "\n",
        "# Calculate both sides of the identity\n",
        "left_side = a_vec.cross(b_vec.cross(c_vec))\n",
        "right_side = (a_vec.dot(c_vec)) * b_vec - (a_vec.dot(b_vec)) * c_vec\n",
        "\n",
        "# Check if the identity holds\n",
        "identity_holds = sp.simplify(left_side - right_side) == sp.Matrix([0, 0, 0])\n",
        "identity_holds\n"
      ],
      "metadata": {
        "id": "e9_iNcDha3K_"
      },
      "execution_count": null,
      "outputs": []
    }
  ]
}