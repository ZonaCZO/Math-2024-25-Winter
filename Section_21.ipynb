{
  "nbformat": 4,
  "nbformat_minor": 0,
  "metadata": {
    "colab": {
      "provenance": [],
      "authorship_tag": "ABX9TyMbf58aihElMjLb0GCmhAl1",
      "include_colab_link": true
    },
    "kernelspec": {
      "name": "python3",
      "display_name": "Python 3"
    },
    "language_info": {
      "name": "python"
    }
  },
  "cells": [
    {
      "cell_type": "markdown",
      "metadata": {
        "id": "view-in-github",
        "colab_type": "text"
      },
      "source": [
        "<a href=\"https://colab.research.google.com/github/ZonaCZO/Math-2024-25-Winter/blob/main/Section_21.ipynb\" target=\"_parent\"><img src=\"https://colab.research.google.com/assets/colab-badge.svg\" alt=\"Open In Colab\"/></a>"
      ]
    },
    {
      "cell_type": "markdown",
      "source": [
        "\n",
        "1. Compute derivatives of functions:\n",
        "\n",
        "a) $ y(x) = -3x + 3 $\n",
        "\n",
        "$$ y'(x) = -3 $$\n",
        "\n",
        "b) $ y(x) = \\pi x + \\sin(1) $\n",
        "\n",
        "$$ y'(x) = \\pi $$\n",
        "\n",
        "c) $ y(x) = 4 + \\sin(2) $\n",
        "\n",
        "$$ y'(x) = 0 $$\n",
        "\n",
        "d) $ y(x) = 2x^3 - 3x^2 + 8x - 9 $\n",
        "\n",
        "$$ y'(x) = 6x^2 - 6x + 8 $$\n",
        "\n",
        "e) $ y(x) = 6x^{1/3} $\n",
        "\n",
        "$$ y'(x) = 2x^{-2/3} $$\n",
        "\n",
        "f) $ y(x) = \\sqrt{x} $\n",
        "\n",
        "$$ y'(x) = \\frac{1}{2\\sqrt{x}} $$\n",
        "\n",
        "g) $ y(x) = \\cos(x) + \\sin(x) $\n",
        "\n",
        "$$ y'(x) = -\\sin(x) + \\cos(x) $$\n",
        "\n",
        "h) $ y(x) = 2\\sin(x)\\cos(x) $\n",
        "\n",
        "Using the product rule:\n",
        "$$ y'(x) = 2(\\sin(x)(-\\sin(x)) + \\cos(x)\\cos(x)) = 2(\\cos^2(x) - \\sin^2(x)) $$\n",
        "\n",
        "i) $ y(x) = x\\sin(x) $\n",
        "\n",
        "Using the product rule:\n",
        "$$ y'(x) = x\\cos(x) + \\sin(x) $$\n",
        "\n",
        "j) $ y(x) = (x + 1)^2 $\n",
        "\n",
        "Using the chain rule:\n",
        "$$ y'(x) = 2(x + 1) $$\n",
        "\n",
        "k) $ y(x) = \\frac{x}{x + 1} $\n",
        "\n",
        "Using the quotient rule:\n",
        "$$ y'(x) = \\frac{1(x + 1) - x(1)}{(x + 1)^2} = \\frac{1}{(x + 1)^2} $$\n",
        "\n",
        "l) $ y(x) = (x + 1)\\exp(x) $\n",
        "\n",
        "Using the product rule:\n",
        "$$ y'(x) = \\exp(x) + (x + 1)\\exp(x) = (x + 2)\\exp(x) $$\n",
        "\n",
        "m) $ y(x) = \\sin(x^2) $\n",
        "\n",
        "Using the chain rule:\n",
        "$$ y'(x) = 2x\\cos(x^2) $$\n",
        "\n",
        "n) $ y(x) = \\exp(-2x) $\n",
        "\n",
        "Using the chain rule:\n",
        "$$ y'(x) = -2\\exp(-2x) $$\n",
        "\n",
        "o) $ y(x) = \\frac{1}{\\sin(x + 1)} $\n",
        "\n",
        "Using the chain rule:\n",
        "$$ y'(x) = -\\frac{\\cos(x + 1)}{\\sin^2(x + 1)} $$\n",
        "\n",
        "p) $ y(x) = \\sqrt{2x + 1} $\n",
        "\n",
        "Using the chain rule:\n",
        "$$ y'(x) = \\frac{1}{\\sqrt{2x + 1}} \\cdot 2 = \\frac{2}{2\\sqrt{2x + 1}} = \\frac{1}{\\sqrt{2x + 1}} $$\n",
        "\n"
      ],
      "metadata": {
        "id": "G7JL5IDBCBBS"
      }
    },
    {
      "cell_type": "code",
      "execution_count": 2,
      "metadata": {
        "colab": {
          "base_uri": "https://localhost:8080/"
        },
        "id": "GzFjBmMKB__n",
        "outputId": "cd9e4217-9197-4e24-b809-6cf07c99823f"
      },
      "outputs": [
        {
          "output_type": "stream",
          "name": "stdout",
          "text": [
            "f1: -3\n",
            "f2: pi\n",
            "f3: 0\n",
            "f4: 6*x**2 - 6*x + 8\n",
            "f5: 2.0/x**0.666666666666667\n",
            "f6: 1/(2*sqrt(x))\n",
            "f7: -sin(x) + cos(x)\n",
            "f8: -2*sin(x)**2 + 2*cos(x)**2\n",
            "f9: x*cos(x) + sin(x)\n",
            "f10: 2*x + 2\n",
            "f11: -x/(x + 1)**2 + 1/(x + 1)\n",
            "f12: (x + 1)*exp(x) + exp(x)\n",
            "f13: 2*x*cos(x**2)\n",
            "f14: -2*exp(-2*x)\n",
            "f15: -cos(x + 1)/sin(x + 1)**2\n",
            "f16: 1/sqrt(2*x + 1)\n"
          ]
        }
      ],
      "source": [
        "import sympy as sp\n",
        "\n",
        "# Define the variable\n",
        "x = sp.symbols('x')\n",
        "\n",
        "# Define the functions\n",
        "f1 = -3*x + 3\n",
        "f2 = sp.pi * x + sp.sin(1)\n",
        "f3 = 4 + sp.sin(2)\n",
        "f4 = 2*x**3 - 3*x**2 + 8*x - 9\n",
        "f5 = 6*x**(1/3)\n",
        "f6 = sp.sqrt(x)\n",
        "f7 = sp.cos(x) + sp.sin(x)\n",
        "f8 = 2 * sp.sin(x) * sp.cos(x)\n",
        "f9 = x * sp.sin(x)\n",
        "f10 = (x + 1)**2\n",
        "f11 = x / (x + 1)\n",
        "f12 = (x + 1) * sp.exp(x)\n",
        "f13 = sp.sin(x**2)\n",
        "f14 = sp.exp(-2*x)\n",
        "f15 = 1 / sp.sin(x + 1)\n",
        "f16 = sp.sqrt(2*x + 1)\n",
        "\n",
        "# Derivatives of the functions\n",
        "derivatives = {\n",
        "    'f1': sp.diff(f1, x),\n",
        "    'f2': sp.diff(f2, x),\n",
        "    'f3': sp.diff(f3, x),\n",
        "    'f4': sp.diff(f4, x),\n",
        "    'f5': sp.diff(f5, x),\n",
        "    'f6': sp.diff(f6, x),\n",
        "    'f7': sp.diff(f7, x),\n",
        "    'f8': sp.diff(f8, x),\n",
        "    'f9': sp.diff(f9, x),\n",
        "    'f10': sp.diff(f10, x),\n",
        "    'f11': sp.diff(f11, x),\n",
        "    'f12': sp.diff(f12, x),\n",
        "    'f13': sp.diff(f13, x),\n",
        "    'f14': sp.diff(f14, x),\n",
        "    'f15': sp.diff(f15, x),\n",
        "    'f16': sp.diff(f16, x)\n",
        "}\n",
        "\n",
        "# Print the derivatives\n",
        "for key, value in derivatives.items():\n",
        "    print(f\"{key}: {value}\")"
      ]
    },
    {
      "cell_type": "markdown",
      "source": [
        "2. Prove:\n",
        "\n",
        "$$ \\frac{d}{dx}(\\ln(\\sin(x))) = \\cot(x) $$\n",
        "\n",
        "Using the chain rule:\n",
        "$$ \\frac{d}{dx}(\\ln(\\sin(x))) = \\frac{1}{\\sin(x)} \\cdot \\cos(x) = \\cot(x) $$\n",
        "\n",
        "\n"
      ],
      "metadata": {
        "id": "pWVtWrkTCPWl"
      }
    },
    {
      "cell_type": "code",
      "source": [
        "# Proof of d/dx(ln(sin(x))) = cot(x)\n",
        "g = sp.ln(sp.sin(x))\n",
        "g_derivative = sp.diff(g, x)\n",
        "print(f\"d/dx(ln(sin(x))) = {g_derivative}\")\n"
      ],
      "metadata": {
        "colab": {
          "base_uri": "https://localhost:8080/"
        },
        "id": "99WsGrTBDbv6",
        "outputId": "0b62c1a0-06ea-47b1-8da8-3e9a6683366f"
      },
      "execution_count": 6,
      "outputs": [
        {
          "output_type": "stream",
          "name": "stdout",
          "text": [
            "d/dx(ln(sin(x))) = cos(x)/sin(x)\n"
          ]
        }
      ]
    },
    {
      "cell_type": "markdown",
      "source": [
        "3. For $ f(x) = \\cos(x) $, verify that $ f''(x) = -f(x) $.\n",
        "\n",
        "First, find the first derivative:\n",
        "$$ f'(x) = -\\sin(x) $$\n",
        "\n",
        "Then, find the second derivative:\n",
        "$$ f''(x) = -\\cos(x) $$\n",
        "\n",
        "Which verifies:\n",
        "$$ f''(x) = -f(x) $$\n",
        "\n"
      ],
      "metadata": {
        "id": "TThkjMPMCTBp"
      }
    },
    {
      "cell_type": "code",
      "source": [
        "# Verify that f''(x) = -f(x) for f(x) = cos(x)\n",
        "f = sp.cos(x)\n",
        "f_second_derivative = sp.diff(f, x, 2)\n",
        "print(f\"f''(x) = {f_second_derivative}\")"
      ],
      "metadata": {
        "colab": {
          "base_uri": "https://localhost:8080/"
        },
        "id": "wxtYulgrEDdf",
        "outputId": "cc673d93-367b-4364-8703-e356f2f5fd83"
      },
      "execution_count": 5,
      "outputs": [
        {
          "output_type": "stream",
          "name": "stdout",
          "text": [
            "f''(x) = -cos(x)\n"
          ]
        }
      ]
    },
    {
      "cell_type": "markdown",
      "source": [
        "4. Using de l'Hopital's Rule, find the improper limits:\n",
        "\n",
        "a) $ \\lim_{x \\to 0} \\frac{\\sin(x)}{x} $\n",
        "\n",
        "$$ \\lim_{x \\to 0} \\frac{\\cos(x)}{1} = 1 $$\n",
        "\n",
        "b) $ \\lim_{x \\to \\infty} \\frac{\\ln(x)}{x} $\n",
        "\n",
        "$$ \\lim_{x \\to \\infty} \\frac{\\frac{1}{x}}{1} = 0 $$\n",
        "\n",
        "c) $ \\lim_{x \\to \\infty} \\frac{\\exp(x)}{x} $\n",
        "\n",
        "$$ \\lim_{x \\to \\infty} \\frac{\\exp(x)}{1} = \\infty $$\n",
        "\n"
      ],
      "metadata": {
        "id": "vCsWn_B4CZzW"
      }
    },
    {
      "cell_type": "code",
      "source": [
        "# Using l'Hopital's Rule\n",
        "lh1 = sp.limit(sp.sin(x) / x, x, 0)\n",
        "print(f\"lim x->0 (sin(x)/x) = {lh1}\")\n",
        "\n",
        "lh2 = sp.limit(sp.ln(x) / x, x, sp.oo)\n",
        "print(f\"lim x->∞ (ln(x)/x) = {lh2}\")\n",
        "\n",
        "lh3 = sp.limit(sp.exp(x) / x, x, sp.oo)\n",
        "print(f\"lim x->∞ (exp(x)/x) = {lh3}\")\n"
      ],
      "metadata": {
        "colab": {
          "base_uri": "https://localhost:8080/"
        },
        "id": "KLrqU2j7EGKR",
        "outputId": "4ee0a27b-587a-462c-ad54-bd05c8969509"
      },
      "execution_count": 4,
      "outputs": [
        {
          "output_type": "stream",
          "name": "stdout",
          "text": [
            "lim x->0 (sin(x)/x) = 1\n",
            "lim x->∞ (ln(x)/x) = 0\n",
            "lim x->∞ (exp(x)/x) = oo\n"
          ]
        }
      ]
    },
    {
      "cell_type": "markdown",
      "source": [
        "5. In physics, the position of a particle is given by $ x(t) = 3t^2 - 6t + 1 $. Find the velocity $ V(t) = x'(t) $ and acceleration $ a(t) = V'(t) = x''(t) $ of the particle at time $ t = 2 $.\n",
        "\n",
        "First, find the velocity:\n",
        "$$ V(t) = x'(t) = 6t - 6 $$\n",
        "\n",
        "Then, find the acceleration:\n",
        "$$ a(t) = V'(t) = x''(t) = 6 $$\n",
        "\n",
        "At $ t = 2 $:\n",
        "$$ V(2) = 6 \\cdot 2 - 6 = 6 $$\n",
        "$$ a(2) = 6 $$\n",
        "\n",
        "$$"
      ],
      "metadata": {
        "id": "bM8ZNTCmCehl"
      }
    },
    {
      "cell_type": "code",
      "source": [
        "\n",
        "# Position, velocity, and acceleration of a particle\n",
        "t = sp.symbols('t')\n",
        "position = 3*t**2 - 6*t + 1\n",
        "velocity = sp.diff(position, t)\n",
        "acceleration = sp.diff(velocity, t)\n",
        "velocity_at_t2 = velocity.subs(t, 2)\n",
        "acceleration_at_t2 = acceleration.subs(t, 2)\n",
        "\n",
        "print(f\"Velocity at t = 2: {velocity_at_t2}\")\n",
        "print(f\"Acceleration at t = 2: {acceleration_at_t2}\")"
      ],
      "metadata": {
        "colab": {
          "base_uri": "https://localhost:8080/"
        },
        "id": "a7RrqgMREHgQ",
        "outputId": "a9c8b676-f631-42a7-caf5-26d064ffc785"
      },
      "execution_count": 3,
      "outputs": [
        {
          "output_type": "stream",
          "name": "stdout",
          "text": [
            "Velocity at t = 2: 6\n",
            "Acceleration at t = 2: 6\n"
          ]
        }
      ]
    }
  ]
}