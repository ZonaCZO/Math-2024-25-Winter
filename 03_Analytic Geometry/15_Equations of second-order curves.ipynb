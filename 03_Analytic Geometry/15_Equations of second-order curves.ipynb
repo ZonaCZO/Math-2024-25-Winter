{
  "nbformat": 4,
  "nbformat_minor": 0,
  "metadata": {
    "colab": {
      "provenance": [],
      "authorship_tag": "ABX9TyMlF0z0i6Re4nOgm28wHGi8",
      "include_colab_link": true
    },
    "kernelspec": {
      "name": "python3",
      "display_name": "Python 3"
    },
    "language_info": {
      "name": "python"
    }
  },
  "cells": [
    {
      "cell_type": "markdown",
      "metadata": {
        "id": "view-in-github",
        "colab_type": "text"
      },
      "source": [
        "<a href=\"https://colab.research.google.com/github/ZonaCZO/Math-2024-25-Winter/blob/main/Section_15.ipynb\" target=\"_parent\"><img src=\"https://colab.research.google.com/assets/colab-badge.svg\" alt=\"Open In Colab\"/></a>"
      ]
    },
    {
      "cell_type": "markdown",
      "source": [
        "# Solutions to Conic Sections Problems\n",
        "\n",
        "## 1. Equation of a circle with center at $A(1,2)$ and radius $r = 3$\n",
        "\n",
        "The equation of a circle with center $(h, k)$ and radius $r$ is given by:\n",
        "$$ (x - h)^2 + (y - k)^2 = r^2 $$\n",
        "\n",
        "Substituting $h = 1$, $k = 2$, and $r = 3$:\n",
        "$$ (x - 1)^2 + (y - 2)^2 = 3^2 $$\n",
        "$$ (x - 1)^2 + (y - 2)^2 = 9 $$\n",
        "\n"
      ],
      "metadata": {
        "id": "0yCRalei7nOL"
      }
    },
    {
      "cell_type": "code",
      "execution_count": null,
      "metadata": {
        "id": "-sXO-vY_7MOt"
      },
      "outputs": [],
      "source": [
        "from sympy import symbols, Eq, solve, sqrt\n",
        "\n",
        "# Define symbols\n",
        "x, y, z = symbols('x y z')\n",
        "\n",
        "# Problem 1: Equation of a circle with center at A(1,2) and radius r = 3\n",
        "h, k, r = 1, 2, 3\n",
        "circle_eq = (x - h)**2 + (y - k)**2 - r**2\n",
        "\n",
        "print(f\"Equation of the circle: (x - {h})**2 + (y - {k})**2 = {r**2}\")\n",
        "\n",
        "\n"
      ]
    },
    {
      "cell_type": "markdown",
      "source": [
        "## 2. Equation of a parabola intersecting the Ox axis at points $x = 2$, $x = 4$, and passing through point $y(3) = 1$\n",
        "\n",
        "A parabola intersecting the $x$-axis at points $x = 2$ and $x = 4$ can be written as:\n",
        "$$ y = a(x - 2)(x - 4) $$\n",
        "\n",
        "Given that it passes through the point $(3, 1)$:\n",
        "1. Substitute $x = 3$ and $y = 1$ into the equation $y = a(x - 2)(x - 4)$:\n",
        "$$ 1 = a(3 - 2)(3 - 4) $$\n",
        "2. Simplify the equation:\n",
        "$$ 1 = a(1)(-1) $$\n",
        "$$ 1 = -a $$\n",
        "3. Solve for $a$:\n",
        "$$ a = -1 $$\n",
        "\n",
        "Thus, the equation of the parabola is:\n",
        "$$ y = -(x - 2)(x - 4) $$\n",
        "Expanding the equation:\n",
        "$$ y = -(x^2 - 6x + 8) $$\n",
        "$$ y = -x^2 + 6x - 8 $$\n",
        "\n"
      ],
      "metadata": {
        "id": "69V9jN7a74YU"
      }
    },
    {
      "cell_type": "code",
      "source": [
        "# Problem 2: Equation of a parabola intersecting the Ox axis at points x = 2, x = 4, and passing through point y(3) = 1\n",
        "a = symbols('a')\n",
        "parabola_eq = a * (x - 2) * (x - 4)\n",
        "sol_a = solve(parabola_eq.subs(x, 3) - 1, a)[0]\n",
        "parabola_eq = parabola_eq.subs(a, sol_a)\n",
        "\n",
        "print(f\"Equation of the parabola: y = {parabola_eq}\")\n",
        "\n"
      ],
      "metadata": {
        "id": "aWKA32Vj76oY"
      },
      "execution_count": null,
      "outputs": []
    },
    {
      "cell_type": "markdown",
      "source": [
        "## 3. Center of the ellipse with the equation $x^2 + 4y^2 - 4x - 16y + 16 = 0$\n",
        "\n",
        "We start by rewriting the equation in standard form by completing the square:\n",
        "\n",
        "1. Group the $x$ and $y$ terms and complete the square:\n",
        "$$ x^2 - 4x + 4 + 4(y^2 - 4y + 4) = 16 $$\n",
        "\n",
        "2. Rewrite the equation in standard form:\n",
        "$$ (x - 2)^2 + 4(y - 2)^2 = 16 $$\n",
        "\n",
        "3. Divide by 16 to get the equation in the form $\\frac{(x - h)^2}{a^2} + \\frac{(y - k)^2}{b^2} = 1$:\n",
        "$$ \\frac{(x - 2)^2}{16} + \\frac{(y - 2)^2}{4} = 1 $$\n",
        "\n",
        "The center of the ellipse is:\n",
        "$$ (h, k) = (2, 2) $$\n",
        "\n"
      ],
      "metadata": {
        "id": "Du_Vs0f1766G"
      }
    },
    {
      "cell_type": "code",
      "source": [
        "# Problem 3: Center of the ellipse with the equation x^2 + 4y^2 - 4x - 16y + 16 = 0\n",
        "ellipse_eq = x**2 + 4*y**2 - 4*x - 16*y + 16\n",
        "center_x = solve(ellipse_eq.subs(y, 0), x)\n",
        "center_y = solve(ellipse_eq.subs(x, 0), y)\n",
        "center_ellipse = (center_x, center_y)\n",
        "\n",
        "# Completing the square\n",
        "ellipse_eq_comp = (x - 2)**2 / 16 + (y - 2)**2 / 4 - 1\n",
        "center_ellipse = (2, 2)\n",
        "\n",
        "print(f\"Center of the ellipse: {center_ellipse}\")\n",
        "\n"
      ],
      "metadata": {
        "id": "MsAgJmLI785W"
      },
      "execution_count": null,
      "outputs": []
    },
    {
      "cell_type": "markdown",
      "source": [
        "## 4. Slope $(m > 0)$ of the line $y = mx - 5$ that is tangent to the circle with the equation $x^2 + y^2 = 1$\n",
        "\n",
        "For the line to be tangent to the circle $x^2 + y^2 = 1$, the distance from the center of the circle $(0,0)$ to the line $y = mx - 5$ must be equal to the radius $r = 1$.\n",
        "\n",
        "1. The distance from the point $(0,0)$ to the line $y = mx - 5$ is given by:\n",
        "$$ \\frac{|5|}{\\sqrt{m^2 + 1}} = 1 $$\n",
        "\n",
        "2. Set the distance equal to the radius:\n",
        "$$ \\frac{5}{\\sqrt{m^2 + 1}} = 1 $$\n",
        "\n",
        "3. Solve for $m$:\n",
        "$$ 5 = \\sqrt{m^2 + 1} $$\n",
        "$$ 25 = m^2 + 1 $$\n",
        "$$ m^2 = 24 $$\n",
        "$$ m = \\sqrt{24} $$\n",
        "$$ m = 2\\sqrt{6} $$\n",
        "\n"
      ],
      "metadata": {
        "id": "gAF-3F_C79Ks"
      }
    },
    {
      "cell_type": "code",
      "source": [
        "# Problem 4: Slope (m > 0) of the line y = mx - 5 that is tangent to the circle with the equation x^2 + y^2 = 1\n",
        "m = symbols('m', positive=True)\n",
        "line_eq = y - m*x + 5\n",
        "distance_eq = abs(5) / sqrt(m**2 + 1) - 1\n",
        "sol_m = solve(distance_eq, m)\n",
        "\n",
        "print(f\"Slope (m) of the tangent line: {sol_m}\")\n",
        "\n"
      ],
      "metadata": {
        "id": "VQG8viiV7_CQ"
      },
      "execution_count": null,
      "outputs": []
    },
    {
      "cell_type": "markdown",
      "source": [
        "## 5. Intersection points of the hyperbola $x^2 - y^2 = 1$ with the ellipse's line $x^2 + 4y^2 = 6$\n",
        "\n",
        "We solve the system of equations:\n",
        "$$ x^2 - y^2 = 1 $$\n",
        "$$ x^2 + 4y^2 = 6 $$\n",
        "\n",
        "1. Subtract the first equation from the second:\n",
        "$$ (x^2 + 4y^2) - (x^2 - y^2) = 6 - 1 $$\n",
        "$$ 5y^2 = 5 $$\n",
        "\n",
        "2. Solve for $y^2$:\n",
        "$$ y^2 = 1 $$\n",
        "$$ y = \\pm 1 $$\n",
        "\n",
        "3. Substitute $y = 1$ and $y = -1$ into $x^2 - y^2 = 1$:\n",
        "For $y = 1$:\n",
        "$$ x^2 - 1 = 1 $$\n",
        "$$ x^2 = 2 $$\n",
        "$$ x = \\pm \\sqrt{2} $$\n",
        "\n",
        "For $y = -1$:\n",
        "$$ x^2 - 1 = 1 $$\n",
        "$$ x^2 = 2 $$\n",
        "$$ x = \\pm \\sqrt{2} $$\n",
        "\n",
        "The intersection points are:\n",
        "$$ (\\sqrt{2}, 1), (-\\sqrt{2}, 1), (\\sqrt{2}, -1), (-\\sqrt{2}, -1) $$\n",
        "\n"
      ],
      "metadata": {
        "id": "kcFyiLlU7_TB"
      }
    },
    {
      "cell_type": "code",
      "source": [
        "# Problem 5: Intersection points of the hyperbola x^2 - y^2 = 1 with the ellipse's line x^2 + 4y^2 = 6\n",
        "hyperbola_eq = x**2 - y**2 - 1\n",
        "ellipse_line_eq = x**2 + 4*y**2 - 6\n",
        "inter_points = solve((hyperbola_eq, ellipse_line_eq), (x, y))\n",
        "\n",
        "print(f\"Intersection points: {inter_points}\")\n",
        "\n"
      ],
      "metadata": {
        "id": "BIaxGy4y8Avd"
      },
      "execution_count": null,
      "outputs": []
    },
    {
      "cell_type": "markdown",
      "source": [
        "## 6. Distance between branches of the hyperbola $x^2 - y^2 = 1$\n",
        "\n",
        "For a hyperbola of the form $\\frac{x^2}{a^2} - \\frac{y^2}{b^2} = 1$, the distance between the two branches is $2a$.\n",
        "\n",
        "Given $x^2 - y^2 = 1$, we have $a^2 = 1$. Thus, $a = 1$.\n",
        "\n",
        "The distance between the branches is:\n",
        "$$ 2a = 2 $$\n"
      ],
      "metadata": {
        "id": "7bzB2kDB8BAo"
      }
    },
    {
      "cell_type": "code",
      "source": [
        "# Problem 6: Distance between branches of the hyperbola x^2 - y^2 = 1\n",
        "distance_between_branches = 2 * sqrt(1)\n",
        "\n",
        "print(f\"Distance between branches of the hyperbola: {distance_between_branches}\")"
      ],
      "metadata": {
        "id": "BaEixeOH9Q9B"
      },
      "execution_count": null,
      "outputs": []
    }
  ]
}
