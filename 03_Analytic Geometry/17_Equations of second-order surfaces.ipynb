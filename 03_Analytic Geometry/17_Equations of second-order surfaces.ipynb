{
  "nbformat": 4,
  "nbformat_minor": 0,
  "metadata": {
    "colab": {
      "provenance": [],
      "authorship_tag": "ABX9TyNG4Cg3jj9xwd7k47bJh/5U",
      "include_colab_link": true
    },
    "kernelspec": {
      "name": "python3",
      "display_name": "Python 3"
    },
    "language_info": {
      "name": "python"
    }
  },
  "cells": [
    {
      "cell_type": "markdown",
      "metadata": {
        "id": "view-in-github",
        "colab_type": "text"
      },
      "source": [
        "<a href=\"https://colab.research.google.com/github/ZonaCZO/Math-2024-25-Winter/blob/main/Section_17.ipynb\" target=\"_parent\"><img src=\"https://colab.research.google.com/assets/colab-badge.svg\" alt=\"Open In Colab\"/></a>"
      ]
    },
    {
      "cell_type": "markdown",
      "source": [
        "# Solutions to Second-Order Surface Problems\n",
        "\n",
        "## 1. Equation of a sphere with center at $P = (1, 2, 3)$ and radius $r = 3$\n",
        "\n",
        "The equation of a sphere with center $(h, k, l)$ and radius $r$ is given by:\n",
        "$$ (x - h)^2 + (y - k)^2 + (z - l)^2 = r^2 $$\n",
        "\n",
        "Substituting $h = 1$, $k = 2$, $l = 3$, and $r = 3$:\n",
        "$$ (x - 1)^2 + (y - 2)^2 + (z - 3)^2 = 3^2 $$\n",
        "$$ (x - 1)^2 + (y - 2)^2 + (z - 3)^2 = 9 $$\n",
        "\n"
      ],
      "metadata": {
        "id": "ZohdSyy7EB9i"
      }
    },
    {
      "cell_type": "code",
      "execution_count": null,
      "metadata": {
        "id": "eGrvfz_hD1Iy"
      },
      "outputs": [],
      "source": [
        "from sympy import symbols, Eq, solve, sqrt\n",
        "\n",
        "# Define symbols\n",
        "x, y, z = symbols('x y z')\n",
        "\n",
        "# Problem 1: Equation of a sphere with center at P(1,2,3) and radius r = 3\n",
        "h, k, l, r = 1, 2, 3, 3\n",
        "sphere_eq = (x - h)**2 + (y - k)**2 + (z - l)**2 - r**2\n",
        "print(f\"Equation of the sphere: (x - {h})^2 + (y - {k})^2 + (z - {l})^2 = {r**2}\")"
      ]
    },
    {
      "cell_type": "markdown",
      "source": [
        "## 2. Do the spheres with equations $x^2 + y^2 + z^2 = 1$ and $x^2 + y^2 + z^2 = 2$ have any common points?\n",
        "\n",
        "Let's consider the equations of the two spheres:\n",
        "$$ x^2 + y^2 + z^2 = 1 $$\n",
        "$$ x^2 + y^2 + z^2 = 2 $$\n",
        "\n",
        "By subtracting the first equation from the second:\n",
        "$$ (x^2 + y^2 + z^2) - (x^2 + y^2 + z^2) = 2 - 1 $$\n",
        "$$ 0 = 1 $$\n",
        "\n",
        "Since this results in a contradiction, the two spheres do not intersect and have no common points.\n",
        "\n"
      ],
      "metadata": {
        "id": "RSNuDV5SEEAv"
      }
    },
    {
      "cell_type": "code",
      "source": [
        "\n",
        "\n",
        "# Problem 2: Do the spheres with equations x^2 + y^2 + z^2 = 1 and x^2 + y^2 + z^2 = 2 have any common points?\n",
        "sphere1_eq = Eq(x**2 + y**2 + z**2, 1)\n",
        "sphere2_eq = Eq(x**2 + y**2 + z**2, 2)\n",
        "common_points = solve((sphere1_eq, sphere2_eq), (x, y, z))\n",
        "print(f\"Common points of the spheres: {common_points if common_points else 'No common points'}\")\n",
        "\n",
        "\n"
      ],
      "metadata": {
        "id": "dUSX17mfEIVe"
      },
      "execution_count": null,
      "outputs": []
    },
    {
      "cell_type": "markdown",
      "source": [
        "## 3. What curve in space is formed by the intersection of the sphere $x^2 + y^2 + z^2 = 1$ with the sphere $(x - 1)^2 + y^2 + z^2 = 1$?\n",
        "\n",
        "To find the curve of intersection, consider the equations of the two spheres:\n",
        "$$ x^2 + y^2 + z^2 = 1 $$\n",
        "$$ (x - 1)^2 + y^2 + z^2 = 1 $$\n",
        "\n",
        "Expanding the second equation:\n",
        "$$ (x - 1)^2 + y^2 + z^2 = x^2 - 2x + 1 + y^2 + z^2 = 1 $$\n",
        "Since $ x^2 + y^2 + z^2 = 1 $, substitute it back:\n",
        "$$ 1 - 2x + 1 = 1 $$\n",
        "$$ 2 - 2x = 1 $$\n",
        "$$ 2x = 1 $$\n",
        "$$ x = \\frac{1}{2} $$\n",
        "\n",
        "Thus, the curve of intersection is:\n",
        "$$ x = \\frac{1}{2} $$\n",
        "\n",
        "Substituting $x = \\frac{1}{2}$ into $x^2 + y^2 + z^2 = 1$:\n",
        "$$ \\left(\\frac{1}{2}\\right)^2 + y^2 + z^2 = 1 $$\n",
        "$$ \\frac{1}{4} + y^2 + z^2 = 1 $$\n",
        "$$ y^2 + z^2 = \\frac{3}{4} $$\n",
        "\n",
        "The equation of the curve is:\n",
        "$$ x = \\frac{1}{2}, \\quad y^2 + z^2 = \\frac{3}{4} $$\n",
        "\n"
      ],
      "metadata": {
        "id": "3OjoxkKBEGFR"
      }
    },
    {
      "cell_type": "code",
      "source": [
        "# Problem 3: Curve in space formed by the intersection of the sphere x^2 + y^2 + z^2 = 1 with the sphere (x - 1)^2 + y^2 + z^2 = 1\n",
        "sphere3_eq = Eq(x**2 + y**2 + z**2, 1)\n",
        "sphere4_eq = Eq((x - 1)**2 + y**2 + z**2, 1)\n",
        "intersection_eq = solve((sphere3_eq, sphere4_eq), (y, z))\n",
        "intersection_curve = (solve(intersection_eq[0], y), solve(intersection_eq[1], z))\n",
        "print(f\"Intersection curve: x = 1/2, y^2 + z^2 = 3/4\")\n",
        "\n"
      ],
      "metadata": {
        "id": "xABJg9PSEJFe"
      },
      "execution_count": null,
      "outputs": []
    },
    {
      "cell_type": "markdown",
      "source": [
        "## 4. Equation of the tangent plane to the paraboloid $z = (x - 1)^2 + y^2 + 1$ at point $P = (1, 0, 1)$\n",
        "\n",
        "First, find the partial derivatives of the function:\n",
        "$$ z = (x - 1)^2 + y^2 + 1 $$\n",
        "\n",
        "Partial derivatives:\n",
        "$$ \\frac{\\partial z}{\\partial x} = 2(x - 1) $$\n",
        "$$ \\frac{\\partial z}{\\partial y} = 2y $$\n",
        "\n",
        "Evaluate the partial derivatives at the point $P = (1, 0, 1)$:\n",
        "$$ \\left. \\frac{\\partial z}{\\partial x} \\right|_{(1,0)} = 2(1 - 1) = 0 $$\n",
        "$$ \\left. \\frac{\\partial z}{\\partial y} \\right|_{(1,0)} = 2 \\cdot 0 = 0 $$\n",
        "\n",
        "The equation of the tangent plane is given by:\n",
        "$$ z - z_0 = \\left. \\frac{\\partial z}{\\partial x} \\right|_{(x_0, y_0)} (x - x_0) + \\left. \\frac{\\partial z}{\\partial y} \\right|_{(x_0, y_0)} (y - y_0) $$\n",
        "\n",
        "Substituting $x_0 = 1$, $y_0 = 0$, and $z_0 = 1$:\n",
        "$$ z - 1 = 0(x - 1) + 0(y - 0) $$\n",
        "$$ z - 1 = 0 $$\n",
        "\n",
        "Therefore, the equation of the tangent plane is:\n",
        "$$ z = 1 $$\n"
      ],
      "metadata": {
        "id": "MZoGa7A2EHPq"
      }
    },
    {
      "cell_type": "code",
      "source": [
        "# Problem 4: Equation of the tangent plane to the paraboloid z = (x - 1)^2 + y^2 + 1 at point P = (1, 0, 1)\n",
        "z_eq = (x - 1)**2 + y**2 + 1\n",
        "dz_dx = z_eq.diff(x)\n",
        "dz_dy = z_eq.diff(y)\n",
        "# Evaluate partial derivatives at the point P(1, 0, 1)\n",
        "partial_x = dz_dx.subs({x: 1, y: 0})\n",
        "partial_y = dz_dy.subs({x: 1, y: 0})\n",
        "tangent_plane_eq = Eq(z - 1, partial_x * (x - 1) + partial_y * (y - 0))\n",
        "print(f\"Equation of the tangent plane: {tangent_plane_eq}\")"
      ],
      "metadata": {
        "id": "K7Qspne5EJdE"
      },
      "execution_count": null,
      "outputs": []
    }
  ]
}
