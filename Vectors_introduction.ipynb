{
  "nbformat": 4,
  "nbformat_minor": 0,
  "metadata": {
    "colab": {
      "provenance": []
    },
    "kernelspec": {
      "name": "python3",
      "display_name": "Python 3"
    },
    "language_info": {
      "name": "python"
    }
  },
  "cells": [
    {
      "cell_type": "markdown",
      "source": [
        "### Exercise A\n",
        "**Find the number by which vector** $$ \\vec{a} = [3, 4] $$ **should be multiplied so that its length becomes 1.**\n",
        "\n",
        "1. First, calculate the length  $$||\\vec{a}|| $$ of vector $$ \\vec{a} $$ using the formula:\n",
        "   $$\n",
        "   ||\\vec{a}|| = \\sqrt{3^2 + 4^2}\n",
        "   $$\n",
        "\n",
        "2. Substitute values and find the result:\n",
        "   $$\n",
        "   ||\\vec{a}|| = \\sqrt{9 + 16} = \\sqrt{25} = 5\n",
        "   $$\n",
        "\n",
        "3. To make the length of the vector equal to 1, we need to multiply it by the reciprocal of its length, i.e., $$ \\frac{1}{||\\vec{a}||} $$:\n",
        "   $$\n",
        "   \\text{Multiplier} = \\frac{1}{||\\vec{a}||} = \\frac{1}{5}\n",
        "   $$\n",
        "\n",
        "**Answer**: Multiply vector $$ \\vec{a} $$ by $$ \\frac{1}{5} $$.\n"
      ],
      "metadata": {
        "id": "0XmnCvRSb9Gw"
      }
    },
    {
      "cell_type": "code",
      "source": [
        "from sympy import symbols, Matrix, sqrt, solve\n",
        "\n",
        "# Exercise A\n",
        "a = Matrix([3, 4])\n",
        "a_length = sqrt(a[0]**2 + a[1]**2)\n",
        "multiplier_a = 1 / a_length\n",
        "print(\"Exercise A - Multiplier for vector a:\", multiplier_a)\n"
      ],
      "metadata": {
        "id": "ktw9Higucx9X"
      },
      "execution_count": null,
      "outputs": []
    },
    {
      "cell_type": "markdown",
      "source": [
        "### Exercise B\n",
        "**Calculate the length of vector** $$ \\vec{b} = [1, 1] $$ **and find its unit vector.**\n",
        "\n",
        "1. Calculate the length $$ ||\\vec{b}|| $$ of vector $$ \\vec{b} $$:\n",
        "   $$\n",
        "   ||\\vec{b}|| = \\sqrt{1^2 + 1^2}\n",
        "   $$\n",
        "\n",
        "2. Substitute values:\n",
        "   $$\n",
        "   ||\\vec{b}|| = \\sqrt{1 + 1} = \\sqrt{2}\n",
        "   $$\n",
        "\n",
        "3. Find the unit vector $$ \\hat{b} $$ by dividing each component of $$ \\vec{b} $$ by its length:\n",
        "   $$\n",
        "   \\hat{b} = \\frac{\\vec{b}}{||\\vec{b}||} = \\left( \\frac{1}{\\sqrt{2}}, \\frac{1}{\\sqrt{2}} \\right)\n",
        "   $$\n",
        "\n",
        "**Answer**: The unit vector $$ \\vec{b} $$ is $$ \\left( \\frac{1}{\\sqrt{2}}, \\frac{1}{\\sqrt{2}} \\right) $$.\n"
      ],
      "metadata": {
        "id": "1rxaxfP-cRrB"
      }
    },
    {
      "cell_type": "code",
      "source": [
        "# Exercise B\n",
        "b = Matrix([1, 1])\n",
        "b_length = sqrt(b[0]**2 + b[1]**2)\n",
        "unit_b = b / b_length\n",
        "print(\"Exercise B - Length of vector b:\", b_length)\n",
        "print(\"Exercise B - Unit vector of b:\", unit_b)"
      ],
      "metadata": {
        "id": "e9nxbDQxc0K9"
      },
      "execution_count": null,
      "outputs": []
    },
    {
      "cell_type": "markdown",
      "source": [
        "### Exercise C\n",
        "**Plot the vector** $ \\vec{b} = [1, 1] $ **and its unit vector** $ \\hat{b} = \\left( \\frac{1}{\\sqrt{2}}, \\frac{1}{\\sqrt{2}} \\right) $.\n",
        "\n",
        "(For plotting, use the vector coordinates: the vector starts from the origin and ends at the point defined by its coordinates.)\n",
        "\n"
      ],
      "metadata": {
        "id": "1ZU3n7RbcnNv"
      }
    },
    {
      "cell_type": "markdown",
      "source": [
        "### Exercise D\n",
        "**Calculate the length of vector** $ \\vec{c} = [1, 2, 3] $ **and find its unit vector.**\n",
        "\n",
        "1. Calculate the length $ ||\\vec{c}|| $ of vector $ \\vec{c} $:\n",
        "   $$\n",
        "   ||\\vec{c}|| = \\sqrt{1^2 + 2^2 + 3^2}\n",
        "   $$\n",
        "\n",
        "2. Substitute values:\n",
        "   $$\n",
        "   ||\\vec{c}|| = \\sqrt{1 + 4 + 9} = \\sqrt{14}\n",
        "   $$\n",
        "\n",
        "3. Find the unit vector $ \\hat{c} $ by dividing each component of $ \\vec{c} $ by its length:\n",
        "   $$\n",
        "   \\hat{c} = \\frac{\\vec{c}}{||\\vec{c}||} = \\left( \\frac{1}{\\sqrt{14}}, \\frac{2}{\\sqrt{14}}, \\frac{3}{\\sqrt{14}} \\right)\n",
        "   $$\n",
        "\n",
        "**Answer**: The unit vector $ \\vec{c} $ is $ \\left( \\frac{1}{\\sqrt{14}}, \\frac{2}{\\sqrt{14}}, \\frac{3}{\\sqrt{14}} \\right) $.\n",
        "\n",
        "---"
      ],
      "metadata": {
        "id": "aEWzwlMrc9Cb"
      }
    },
    {
      "cell_type": "code",
      "source": [
        "# Exercise D\n",
        "c = Matrix([1, 2, 3])\n",
        "c_length = sqrt(c[0]**2 + c[1]**2 + c[2]**2)\n",
        "unit_c = c / c_length\n",
        "print(\"Exercise D - Length of vector c:\", c_length)\n",
        "print(\"Exercise D - Unit vector of c:\", unit_c)\n"
      ],
      "metadata": {
        "id": "n6ZbMx8JdBv9"
      },
      "execution_count": null,
      "outputs": []
    },
    {
      "cell_type": "markdown",
      "source": [
        "### Exercise E\n",
        "**Find the Cartesian coordinates of vector** $ \\vec{v} = [2, 3, 4] $ **in the basis** $ \\{ \\vec{b_1} = [1, 0, 1], \\vec{b_2} = [0, 1, 0], \\vec{b_3} = [1, 0, -1] \\} $.\n",
        "\n",
        "1. To express $ \\vec{v} $ in the new basis, solve the following system of equations:\n",
        "   $$\n",
        "   \\vec{v} = x \\cdot \\vec{b_1} + y \\cdot \\vec{b_2} + z \\cdot \\vec{b_3}\n",
        "   $$\n",
        "   where $ x, y, z $ are the coordinates of $ \\vec{v} $ in the new basis.\n",
        "\n",
        "2. Substitute the vectors' coordinates:\n",
        "   $$\n",
        "   [2, 3, 4] = x \\cdot [1, 0, 1] + y \\cdot [0, 1, 0] + z \\cdot [1, 0, -1]\n",
        "   $$\n",
        "\n",
        "3. Expand into a system of equations by comparing each component:\n",
        "   $$\n",
        "   \\begin{cases}\n",
        "   x + z = 2 \\\\\n",
        "   y = 3 \\\\\n",
        "   x - z = 4\n",
        "   \\end{cases}\n",
        "   $$\n",
        "\n",
        "4. Solve this system for $ x $, $ y $, and $ z $.\n",
        "\n",
        "**Answer**: The coordinates of $ \\vec{v} $ in the basis $ \\{ \\vec{b_1}, \\vec{b_2}, \\vec{b_3} \\} $ are $ (x, y, z) $.\n"
      ],
      "metadata": {
        "id": "D7GgCtAydCDh"
      }
    },
    {
      "cell_type": "code",
      "source": [
        "# Exercise E\n",
        "x, y, z = symbols('x y z')\n",
        "v = Matrix([2, 3, 4])\n",
        "b1 = Matrix([1, 0, 1])\n",
        "b2 = Matrix([0, 1, 0])\n",
        "b3 = Matrix([1, 0, -1])\n",
        "\n",
        "# Set up the equation v = x*b1 + y*b2 + z*b3 and solve for x, y, z\n",
        "equations = [\n",
        "    x * b1[0] + y * b2[0] + z * b3[0] - v[0],\n",
        "    x * b1[1] + y * b2[1] + z * b3[1] - v[1],\n",
        "    x * b1[2] + y * b2[2] + z * b3[2] - v[2]\n",
        "]\n",
        "\n",
        "solution = solve(equations, (x, y, z))\n",
        "print(\"Exercise E - Coordinates of v in the new basis:\", solution)"
      ],
      "metadata": {
        "id": "ZvbIn2mRdKsU"
      },
      "execution_count": null,
      "outputs": []
    }
  ]
}