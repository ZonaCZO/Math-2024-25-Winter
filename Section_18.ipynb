{
  "nbformat": 4,
  "nbformat_minor": 0,
  "metadata": {
    "colab": {
      "provenance": [],
      "authorship_tag": "ABX9TyMr6isGeW3c6yurqnJcIONP",
      "include_colab_link": true
    },
    "kernelspec": {
      "name": "python3",
      "display_name": "Python 3"
    },
    "language_info": {
      "name": "python"
    }
  },
  "cells": [
    {
      "cell_type": "markdown",
      "metadata": {
        "id": "view-in-github",
        "colab_type": "text"
      },
      "source": [
        "<a href=\"https://colab.research.google.com/github/ZonaCZO/Math-2024-25-Winter/blob/main/Section_18.ipynb\" target=\"_parent\"><img src=\"https://colab.research.google.com/assets/colab-badge.svg\" alt=\"Open In Colab\"/></a>"
      ]
    },
    {
      "cell_type": "markdown",
      "source": [
        "# Solutions to Function Problems\n",
        "\n",
        "## 1. Draw in a single Geogebra notebook the following functions:\n",
        "- $ f(x) = x^2 $\n",
        "- $ g(x) = \\sqrt{x} $\n",
        "- $ h(x) = \\frac{1}{x} $\n",
        "- $ j(x) = \\sin(x) $\n",
        "\n",
        "Find value of all the above functions at $ x = 2 $.\n",
        "\n",
        "### Values at $ x = 2 $:\n",
        "1. $ f(2) = 2^2 = 4 $\n",
        "2. $ g(2) = \\sqrt{2} $\n",
        "3. $ h(2) = \\frac{1}{2} = 0.5 $\n",
        "4. $ j(2) = \\sin(2) $\n",
        "\n"
      ],
      "metadata": {
        "id": "_IrK7DfOF2QI"
      }
    },
    {
      "cell_type": "code",
      "execution_count": null,
      "metadata": {
        "id": "6rsUUVr7F0ve"
      },
      "outputs": [],
      "source": [
        "from sympy import symbols, Function, sqrt, sin, exp, log, S\n",
        "\n",
        "# Define symbols\n",
        "x = symbols('x')\n",
        "\n",
        "# Functions definition\n",
        "f = Function('f')(x)\n",
        "g = Function('g')(x)\n",
        "h = Function('h')(x)\n",
        "j = Function('j')(x)\n",
        "\n",
        "# Problem 1: Define functions\n",
        "f = x**2\n",
        "g = sqrt(x)\n",
        "h = 1/x\n",
        "j = sin(x)\n",
        "\n",
        "# Values at x = 2\n",
        "value_f = f.subs(x, 2)\n",
        "value_g = g.subs(x, 2)\n",
        "value_h = h.subs(x, 2)\n",
        "value_j = j.subs(x, 2)\n",
        "\n",
        "print(f\"f(2) = {value_f}\")\n",
        "print(f\"g(2) = {value_g}\")\n",
        "print(f\"h(2) = {value_h}\")\n",
        "print(f\"j(2) = {value_j}\")\n",
        "\n"
      ]
    },
    {
      "cell_type": "markdown",
      "source": [
        "## 2. Let $ f(x) = 3x - 1 $ and $ g(x) = \\sqrt{x} $. Find:\n",
        "- $ f(g(x)) $\n",
        "- $ g(f(x)) $\n",
        "- $ f(f(x)) $\n",
        "- $ g(g(x)) $\n",
        "\n",
        "### Solutions:\n",
        "1. $ f(g(x)) = f(\\sqrt{x}) = 3\\sqrt{x} - 1 $\n",
        "2. $ g(f(x)) = g(3x - 1) = \\sqrt{3x - 1} $\n",
        "3. $ f(f(x)) = f(3x - 1) = 3(3x - 1) - 1 = 9x - 3 - 1 = 9x - 4 $\n",
        "4. $ g(g(x)) = g(\\sqrt{x}) = \\sqrt{\\sqrt{x}} = x^{\\frac{1}{4}} $\n",
        "\n",
        "\n",
        "\n"
      ],
      "metadata": {
        "id": "KCfXf3bvJ8mR"
      }
    },
    {
      "cell_type": "code",
      "source": [
        "# Problem 2: Define functions\n",
        "f = 3*x - 1\n",
        "g = sqrt(x)\n",
        "\n",
        "# Composite functions\n",
        "f_of_g = f.subs(x, g)\n",
        "g_of_f = g.subs(x, f)\n",
        "f_of_f = f.subs(x, f)\n",
        "g_of_g = g.subs(x, g)\n",
        "\n",
        "print(f\"f(g(x)) = {f_of_g}\")\n",
        "print(f\"g(f(x)) = {g_of_f}\")\n",
        "print(f\"f(f(x)) = {f_of_f}\")\n",
        "print(f\"g(g(x)) = {g_of_g}\")\n",
        "\n",
        "}\")\n"
      ],
      "metadata": {
        "id": "LNedGYLqJ8UR"
      },
      "execution_count": null,
      "outputs": []
    },
    {
      "cell_type": "markdown",
      "source": [
        "## 3. Let $ f(x) = e^x $ and $ g(x) = \\ln(x) $. Check: $ f(g(x)) $ and $ g(f(x)) $. What do you notice?\n",
        "\n",
        "### Solutions:\n",
        "1. $ f(g(x)) = e^{\\ln(x)} = x $\n",
        "2. $ g(f(x)) = \\ln(e^x) = x $\n",
        "\n",
        "#### Notice:\n",
        "Both $ f(g(x)) $ and $ g(f(x)) $ simplify to $ x $, showing that $ f $ and $ g $ are inverses of each other.\n",
        "\n"
      ],
      "metadata": {
        "id": "mYrWpddKJ-wf"
      }
    },
    {
      "cell_type": "code",
      "source": [
        "# Problem 3: Define functions\n",
        "f = exp(x)\n",
        "g = log(x)\n",
        "\n",
        "# Composite functions\n",
        "f_of_g = f.subs(x, g)\n",
        "g_of_f = g.subs(x, f)\n",
        "\n",
        "print(f\"f(g(x)) = {f_of_g}\")\n",
        "print(f\"g(f(x)) = {g_of_f}\")\n",
        "\n"
      ],
      "metadata": {
        "id": "1YY3OF2EJ-iP"
      },
      "execution_count": null,
      "outputs": []
    },
    {
      "cell_type": "markdown",
      "source": [
        "## 4. We have function $ f = \\{(1, 7), (2, 9), (3, 11)\\} $. Give inverse function $ f^{-1} $.\n",
        "\n",
        "### Solution:\n",
        "The inverse function $ f^{-1} $ is found by swapping the coordinates:\n",
        "\n",
        "\n",
        "$$ f^{-1} = \\{(7, 1), (9, 2), (11, 3)\\} $$\n",
        "\n",
        "\n",
        "\n"
      ],
      "metadata": {
        "id": "TG-QAN-5KA5y"
      }
    },
    {
      "cell_type": "code",
      "source": [
        "# Problem 4: Inverse function\n",
        "f = {1: 7, 2: 9, 3: 11}\n",
        "f_inv = {v: k for k, v in f.items()}\n",
        "\n",
        "print(f\"Inverse function f^-1: {f_inv}\")\n",
        "\n"
      ],
      "metadata": {
        "id": "b97NgoVrKAoi"
      },
      "execution_count": null,
      "outputs": []
    },
    {
      "cell_type": "markdown",
      "source": [
        "## 5. We have function $ f(x) = x - 1 $. Give inverse function $ f^{-1} $. Show both functions on the same Geogebra notebook.\n",
        "\n",
        "### Solution:\n",
        "The inverse function $ f^{-1}(x) $ is found by solving for $ x $:\n",
        "\n",
        "\n",
        "$$ y = x - 1 \\implies x = y + 1 \\implies f^{-1}(x) = x + 1 $$\n",
        "\n",
        "\n",
        "\n",
        "\n"
      ],
      "metadata": {
        "id": "84tz4NEuKC4R"
      }
    },
    {
      "cell_type": "code",
      "source": [
        "# Problem 5: Define function and find inverse\n",
        "f = x - 1\n",
        "f_inv = x + 1\n",
        "\n",
        "print(f\"Inverse function f^-1(x): {f_inv}\")\n",
        "\n"
      ],
      "metadata": {
        "id": "w3Tu0OZzKCiK"
      },
      "execution_count": null,
      "outputs": []
    },
    {
      "cell_type": "markdown",
      "source": [
        "## 6. We have function $ f = \\{(1, 7), (2, 9), (3, 11)\\} $. Give inverse function $ f^{-1} $.\n",
        "\n",
        "### Solution:\n",
        "The inverse function $ f^{-1} $ is found by swapping the coordinates:\n",
        "\n",
        "\n",
        "$$ f^{-1} = \\{(7, 1), (9, 2), (11, 3)\\} $$"
      ],
      "metadata": {
        "id": "6E1Y3HodKEQr"
      }
    },
    {
      "cell_type": "code",
      "source": [
        "# Problem 6: Inverse function\n",
        "f = {1: 7, 2: 9, 3: 11}\n",
        "f_inv = {v: k for k, v in f.items()}\n",
        "\n",
        "print(f\"Inverse function f^-1: {f_inv}\")"
      ],
      "metadata": {
        "id": "z_PeQ7HfKD-Q"
      },
      "execution_count": null,
      "outputs": []
    }
  ]
}